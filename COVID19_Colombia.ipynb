{
  "nbformat": 4,
  "nbformat_minor": 0,
  "metadata": {
    "colab": {
      "name": "COVID19_Colombia.ipynb",
      "provenance": [],
      "toc_visible": true,
      "authorship_tag": "ABX9TyOholh0Xs4sH7oKHzk7xcNQ",
      "include_colab_link": true
    },
    "kernelspec": {
      "name": "python3",
      "display_name": "Python 3"
    }
  },
  "cells": [
    {
      "cell_type": "markdown",
      "metadata": {
        "id": "view-in-github",
        "colab_type": "text"
      },
      "source": [
        "<a href=\"https://colab.research.google.com/github/amontenegrot/COVID19/blob/main/COVID19_Colombia.ipynb\" target=\"_parent\"><img src=\"https://colab.research.google.com/assets/colab-badge.svg\" alt=\"Open In Colab\"/></a>"
      ]
    },
    {
      "cell_type": "markdown",
      "metadata": {
        "id": "jBb9FWvFAzWj"
      },
      "source": [
        "#Importar datos\n",
        "\n",
        "Datos oficiales:\n",
        "\n",
        "[Mundo](https://ourworldindata.org/coronavirus-source-data)\n",
        "\n",
        "[Colombia](https://www.ins.gov.co/Noticias/Paginas/Coronavirus.aspx)\n",
        "\n",
        "[Bogotá](http://saludata.saludcapital.gov.co/osb/index.php/datos-de-salud/enfermedades-trasmisibles/covid19/?unapproved=410&moderation-hash=b01afdf1c01305df1f6b8a6a02826da5#comment-410)"
      ]
    },
    {
      "cell_type": "code",
      "metadata": {
        "id": "vYg5Y5-1604g",
        "colab": {
          "base_uri": "https://localhost:8080/"
        },
        "outputId": "c5d55977-a934-4984-807f-0f982d29dd7c"
      },
      "source": [
        "import pandas as pd\n",
        "import numpy as np\n",
        "import cufflinks as cf\n",
        "#import pycountry\n",
        "\n",
        "import plotly.express as px\n",
        "import plotly.graph_objects as go\n",
        "import plotly.offline as py\n",
        "from plotly.subplots import make_subplots\n",
        "from pylab import *\n",
        "from scipy.optimize import curve_fit\n",
        "from scipy.integrate import odeint\n",
        "\n",
        "dfGlobal = pd.read_csv('https://covid.ourworldindata.org/data/ecdc/total_cases.csv')\n",
        "dfGlobalMuertes = pd.read_csv('https://covid.ourworldindata.org/data/ecdc/total_deaths.csv')\n",
        "dfCol = pd.read_csv('https://www.datos.gov.co/api/views/gt2j-8ykr/rows.csv')"
      ],
      "execution_count": 1,
      "outputs": [
        {
          "output_type": "stream",
          "text": [
            "/usr/local/lib/python3.6/dist-packages/IPython/core/interactiveshell.py:2718: DtypeWarning:\n",
            "\n",
            "Columns (14,22) have mixed types.Specify dtype option on import or set low_memory=False.\n",
            "\n"
          ],
          "name": "stderr"
        }
      ]
    },
    {
      "cell_type": "code",
      "metadata": {
        "id": "oOIL6V99f6Q1"
      },
      "source": [
        "def Mayus(cadena):\n",
        "  if cadena == 'Bogotá D.C.':\n",
        "    return str(cadena)\n",
        "  elif cadena == 'Cartagena D.T. y C.':\n",
        "    return str(cadena)\n",
        "  elif cadena == 'Barranquilla D.E.':\n",
        "    return str(cadena)\n",
        "  elif cadena == 'Santa Marta D.T. y C.':\n",
        "    return str(cadena)\n",
        "  elif cadena == 'Buenaventura D.E.':\n",
        "    return str(cadena)\n",
        "  elif cadena == 'Santa marta D.T. y C.':\n",
        "    return str(cadena)\n",
        "  elif cadena == 'Archipiélago de San Andrés Providencia y Santa Catalina':\n",
        "    return 'San Andrés, Providencia y Santa Catalina'\n",
        "  elif cadena == 'Hospital UCI':\n",
        "    return str(cadena)\n",
        "  #elif cadena == 'F':\n",
        "    #return 'Mujer'\n",
        "  #elif cadena == 'M':\n",
        "    #return 'Hombre'\n",
        "  else:\n",
        "    str(cadena)\n",
        "    return cadena.capitalize()\n",
        "\n",
        "#se busca en una cadena y lo que se busca se reemplaza\n",
        "def Reemplazar(cadena, buscar, reemplazo):\n",
        "  buscar = str(buscar)\n",
        "  reemplazo = str(reemplazo)\n",
        "  return cadena.replace(buscar, reemplazo)"
      ],
      "execution_count": 2,
      "outputs": []
    },
    {
      "cell_type": "markdown",
      "metadata": {
        "id": "Xgtag33LinbZ"
      },
      "source": [
        "#Preprocesamiento"
      ]
    },
    {
      "cell_type": "code",
      "metadata": {
        "id": "PEri5mlQ0Yq6",
        "colab": {
          "base_uri": "https://localhost:8080/"
        },
        "outputId": "a73c0894-eed1-445a-c25f-19a9b927556f"
      },
      "source": [
        "dfCol.dtypes"
      ],
      "execution_count": 3,
      "outputs": [
        {
          "output_type": "execute_result",
          "data": {
            "text/plain": [
              "fecha reporte web                object\n",
              "ID de caso                        int64\n",
              "Fecha de notificación            object\n",
              "Código DIVIPOLA departamento      int64\n",
              "Nombre departamento              object\n",
              "Código DIVIPOLA municipio         int64\n",
              "Nombre municipio                 object\n",
              "Edad                              int64\n",
              "Unidad de medida de edad          int64\n",
              "Sexo                             object\n",
              "Tipo de contagio                 object\n",
              "Ubicación del caso               object\n",
              "Estado                           object\n",
              "Código ISO del país             float64\n",
              "Nombre del país                  object\n",
              "Recuperado                       object\n",
              "Fecha de inicio de síntomas      object\n",
              "Fecha de muerte                  object\n",
              "Fecha de diagnóstico             object\n",
              "Fecha de recuperación            object\n",
              "Tipo de recuperación             object\n",
              "Pertenencia étnica              float64\n",
              "Nombre del grupo étnico          object\n",
              "dtype: object"
            ]
          },
          "metadata": {
            "tags": []
          },
          "execution_count": 3
        }
      ]
    },
    {
      "cell_type": "code",
      "metadata": {
        "id": "qxySAkii7QWW",
        "colab": {
          "base_uri": "https://localhost:8080/"
        },
        "outputId": "e9b0fe73-6127-4a53-afe7-d1c8b1f59132"
      },
      "source": [
        "dfCol.columns"
      ],
      "execution_count": 4,
      "outputs": [
        {
          "output_type": "execute_result",
          "data": {
            "text/plain": [
              "Index(['fecha reporte web', 'ID de caso', 'Fecha de notificación',\n",
              "       'Código DIVIPOLA departamento', 'Nombre departamento',\n",
              "       'Código DIVIPOLA municipio', 'Nombre municipio', 'Edad',\n",
              "       'Unidad de medida de edad', 'Sexo', 'Tipo de contagio',\n",
              "       'Ubicación del caso', 'Estado', 'Código ISO del país',\n",
              "       'Nombre del país', 'Recuperado', 'Fecha de inicio de síntomas',\n",
              "       'Fecha de muerte', 'Fecha de diagnóstico', 'Fecha de recuperación',\n",
              "       'Tipo de recuperación', 'Pertenencia étnica',\n",
              "       'Nombre del grupo étnico'],\n",
              "      dtype='object')"
            ]
          },
          "metadata": {
            "tags": []
          },
          "execution_count": 4
        }
      ]
    },
    {
      "cell_type": "code",
      "metadata": {
        "id": "6ETTO2xKwmcF",
        "colab": {
          "base_uri": "https://localhost:8080/",
          "height": 374
        },
        "outputId": "901878b8-942c-4074-f3a5-d3894d18fc92"
      },
      "source": [
        "dfCol.tail()"
      ],
      "execution_count": 5,
      "outputs": [
        {
          "output_type": "execute_result",
          "data": {
            "text/html": [
              "<div>\n",
              "<style scoped>\n",
              "    .dataframe tbody tr th:only-of-type {\n",
              "        vertical-align: middle;\n",
              "    }\n",
              "\n",
              "    .dataframe tbody tr th {\n",
              "        vertical-align: top;\n",
              "    }\n",
              "\n",
              "    .dataframe thead th {\n",
              "        text-align: right;\n",
              "    }\n",
              "</style>\n",
              "<table border=\"1\" class=\"dataframe\">\n",
              "  <thead>\n",
              "    <tr style=\"text-align: right;\">\n",
              "      <th></th>\n",
              "      <th>fecha reporte web</th>\n",
              "      <th>ID de caso</th>\n",
              "      <th>Fecha de notificación</th>\n",
              "      <th>Código DIVIPOLA departamento</th>\n",
              "      <th>Nombre departamento</th>\n",
              "      <th>Código DIVIPOLA municipio</th>\n",
              "      <th>Nombre municipio</th>\n",
              "      <th>Edad</th>\n",
              "      <th>Unidad de medida de edad</th>\n",
              "      <th>Sexo</th>\n",
              "      <th>Tipo de contagio</th>\n",
              "      <th>Ubicación del caso</th>\n",
              "      <th>Estado</th>\n",
              "      <th>Código ISO del país</th>\n",
              "      <th>Nombre del país</th>\n",
              "      <th>Recuperado</th>\n",
              "      <th>Fecha de inicio de síntomas</th>\n",
              "      <th>Fecha de muerte</th>\n",
              "      <th>Fecha de diagnóstico</th>\n",
              "      <th>Fecha de recuperación</th>\n",
              "      <th>Tipo de recuperación</th>\n",
              "      <th>Pertenencia étnica</th>\n",
              "      <th>Nombre del grupo étnico</th>\n",
              "    </tr>\n",
              "  </thead>\n",
              "  <tbody>\n",
              "    <tr>\n",
              "      <th>1594492</th>\n",
              "      <td>27/12/2020 0:00:00</td>\n",
              "      <td>1594533</td>\n",
              "      <td>24/12/2020 0:00:00</td>\n",
              "      <td>11</td>\n",
              "      <td>BOGOTA</td>\n",
              "      <td>11001</td>\n",
              "      <td>BOGOTA</td>\n",
              "      <td>50</td>\n",
              "      <td>1</td>\n",
              "      <td>F</td>\n",
              "      <td>En estudio</td>\n",
              "      <td>Casa</td>\n",
              "      <td>Leve</td>\n",
              "      <td>NaN</td>\n",
              "      <td>NaN</td>\n",
              "      <td>Activo</td>\n",
              "      <td>23/12/2020 0:00:00</td>\n",
              "      <td>NaN</td>\n",
              "      <td>26/12/2020 0:00:00</td>\n",
              "      <td>NaN</td>\n",
              "      <td>NaN</td>\n",
              "      <td>NaN</td>\n",
              "      <td>NaN</td>\n",
              "    </tr>\n",
              "    <tr>\n",
              "      <th>1594493</th>\n",
              "      <td>27/12/2020 0:00:00</td>\n",
              "      <td>1594534</td>\n",
              "      <td>24/12/2020 0:00:00</td>\n",
              "      <td>11</td>\n",
              "      <td>BOGOTA</td>\n",
              "      <td>11001</td>\n",
              "      <td>BOGOTA</td>\n",
              "      <td>25</td>\n",
              "      <td>1</td>\n",
              "      <td>M</td>\n",
              "      <td>En estudio</td>\n",
              "      <td>Casa</td>\n",
              "      <td>Leve</td>\n",
              "      <td>NaN</td>\n",
              "      <td>NaN</td>\n",
              "      <td>Activo</td>\n",
              "      <td>23/12/2020 0:00:00</td>\n",
              "      <td>NaN</td>\n",
              "      <td>23/12/2020 0:00:00</td>\n",
              "      <td>NaN</td>\n",
              "      <td>NaN</td>\n",
              "      <td>NaN</td>\n",
              "      <td>NaN</td>\n",
              "    </tr>\n",
              "    <tr>\n",
              "      <th>1594494</th>\n",
              "      <td>27/12/2020 0:00:00</td>\n",
              "      <td>1594535</td>\n",
              "      <td>24/12/2020 0:00:00</td>\n",
              "      <td>11</td>\n",
              "      <td>BOGOTA</td>\n",
              "      <td>11001</td>\n",
              "      <td>BOGOTA</td>\n",
              "      <td>55</td>\n",
              "      <td>1</td>\n",
              "      <td>M</td>\n",
              "      <td>En estudio</td>\n",
              "      <td>Casa</td>\n",
              "      <td>Leve</td>\n",
              "      <td>NaN</td>\n",
              "      <td>NaN</td>\n",
              "      <td>Activo</td>\n",
              "      <td>23/12/2020 0:00:00</td>\n",
              "      <td>NaN</td>\n",
              "      <td>23/12/2020 0:00:00</td>\n",
              "      <td>NaN</td>\n",
              "      <td>NaN</td>\n",
              "      <td>NaN</td>\n",
              "      <td>NaN</td>\n",
              "    </tr>\n",
              "    <tr>\n",
              "      <th>1594495</th>\n",
              "      <td>27/12/2020 0:00:00</td>\n",
              "      <td>1594536</td>\n",
              "      <td>25/12/2020 0:00:00</td>\n",
              "      <td>11</td>\n",
              "      <td>BOGOTA</td>\n",
              "      <td>11001</td>\n",
              "      <td>BOGOTA</td>\n",
              "      <td>80</td>\n",
              "      <td>1</td>\n",
              "      <td>M</td>\n",
              "      <td>En estudio</td>\n",
              "      <td>Hospital UCI</td>\n",
              "      <td>Grave</td>\n",
              "      <td>NaN</td>\n",
              "      <td>NaN</td>\n",
              "      <td>Activo</td>\n",
              "      <td>20/12/2020 0:00:00</td>\n",
              "      <td>NaN</td>\n",
              "      <td>24/12/2020 0:00:00</td>\n",
              "      <td>NaN</td>\n",
              "      <td>NaN</td>\n",
              "      <td>NaN</td>\n",
              "      <td>NaN</td>\n",
              "    </tr>\n",
              "    <tr>\n",
              "      <th>1594496</th>\n",
              "      <td>27/12/2020 0:00:00</td>\n",
              "      <td>1594537</td>\n",
              "      <td>23/12/2020 0:00:00</td>\n",
              "      <td>11</td>\n",
              "      <td>BOGOTA</td>\n",
              "      <td>11001</td>\n",
              "      <td>BOGOTA</td>\n",
              "      <td>13</td>\n",
              "      <td>1</td>\n",
              "      <td>F</td>\n",
              "      <td>En estudio</td>\n",
              "      <td>Casa</td>\n",
              "      <td>Leve</td>\n",
              "      <td>NaN</td>\n",
              "      <td>NaN</td>\n",
              "      <td>Activo</td>\n",
              "      <td>19/12/2020 0:00:00</td>\n",
              "      <td>NaN</td>\n",
              "      <td>22/12/2020 0:00:00</td>\n",
              "      <td>NaN</td>\n",
              "      <td>NaN</td>\n",
              "      <td>NaN</td>\n",
              "      <td>NaN</td>\n",
              "    </tr>\n",
              "  </tbody>\n",
              "</table>\n",
              "</div>"
            ],
            "text/plain": [
              "          fecha reporte web  ...  Nombre del grupo étnico\n",
              "1594492  27/12/2020 0:00:00  ...                      NaN\n",
              "1594493  27/12/2020 0:00:00  ...                      NaN\n",
              "1594494  27/12/2020 0:00:00  ...                      NaN\n",
              "1594495  27/12/2020 0:00:00  ...                      NaN\n",
              "1594496  27/12/2020 0:00:00  ...                      NaN\n",
              "\n",
              "[5 rows x 23 columns]"
            ]
          },
          "metadata": {
            "tags": []
          },
          "execution_count": 5
        }
      ]
    },
    {
      "cell_type": "code",
      "metadata": {
        "id": "1iexwxkVJtw4"
      },
      "source": [
        "#Eliminar columnas innecesarias\n",
        "dfCol = dfCol.drop(['fecha reporte web'], axis=1)\n",
        "dfCol = dfCol.drop(['Código DIVIPOLA departamento'], axis=1)\n",
        "dfCol = dfCol.drop(['Código DIVIPOLA municipio'], axis=1)\n",
        "dfCol = dfCol.drop(['Unidad de medida de edad'], axis=1)\n",
        "dfCol = dfCol.drop(['Tipo de contagio'], axis=1)\n",
        "dfCol = dfCol.drop(['Código ISO del país'], axis=1)\n",
        "dfCol = dfCol.drop(['Nombre del país'], axis=1)\n",
        "dfCol = dfCol.drop(['Recuperado'], axis=1)\n",
        "dfCol = dfCol.drop(['Fecha de inicio de síntomas'], axis=1)\n",
        "dfCol = dfCol.drop(['Fecha de muerte'], axis=1)\n",
        "dfCol = dfCol.drop(['Fecha de diagnóstico'], axis=1)\n",
        "dfCol = dfCol.drop(['Fecha de recuperación'], axis=1)\n",
        "dfCol = dfCol.drop(['Tipo de recuperación'], axis=1)\n",
        "dfCol = dfCol.drop(['Pertenencia étnica'], axis=1)\n",
        "dfCol = dfCol.drop(['Nombre del grupo étnico'], axis=1)"
      ],
      "execution_count": 6,
      "outputs": []
    },
    {
      "cell_type": "code",
      "metadata": {
        "id": "xn_oFIZQL75U",
        "colab": {
          "base_uri": "https://localhost:8080/"
        },
        "outputId": "53e39033-11e5-422a-be01-55e78b10746d"
      },
      "source": [
        "dfCol.columns"
      ],
      "execution_count": 7,
      "outputs": [
        {
          "output_type": "execute_result",
          "data": {
            "text/plain": [
              "Index(['ID de caso', 'Fecha de notificación', 'Nombre departamento',\n",
              "       'Nombre municipio', 'Edad', 'Sexo', 'Ubicación del caso', 'Estado'],\n",
              "      dtype='object')"
            ]
          },
          "metadata": {
            "tags": []
          },
          "execution_count": 7
        }
      ]
    },
    {
      "cell_type": "code",
      "metadata": {
        "id": "mt2Rk0zIUavB"
      },
      "source": [
        "#Renombrar columnas\n",
        "dfCol = dfCol.rename({'Fecha de notificación':'Fecha',\n",
        "                      'Nombre municipio':'Ciudad',\n",
        "                      'Ubicación del caso':'Ubicacion',\n",
        "                      'Nombre departamento':'Departamento'}, axis=1)\n",
        "#Nueva columna con número de casos\n",
        "dfCol['Casos'] = 1"
      ],
      "execution_count": 8,
      "outputs": []
    },
    {
      "cell_type": "code",
      "metadata": {
        "id": "xBR2uf2sJ7Mq",
        "colab": {
          "base_uri": "https://localhost:8080/",
          "height": 198
        },
        "outputId": "7b6f3496-f35d-4be7-889a-e250552cbc24"
      },
      "source": [
        "dfCol.tail()"
      ],
      "execution_count": 9,
      "outputs": [
        {
          "output_type": "execute_result",
          "data": {
            "text/html": [
              "<div>\n",
              "<style scoped>\n",
              "    .dataframe tbody tr th:only-of-type {\n",
              "        vertical-align: middle;\n",
              "    }\n",
              "\n",
              "    .dataframe tbody tr th {\n",
              "        vertical-align: top;\n",
              "    }\n",
              "\n",
              "    .dataframe thead th {\n",
              "        text-align: right;\n",
              "    }\n",
              "</style>\n",
              "<table border=\"1\" class=\"dataframe\">\n",
              "  <thead>\n",
              "    <tr style=\"text-align: right;\">\n",
              "      <th></th>\n",
              "      <th>ID de caso</th>\n",
              "      <th>Fecha</th>\n",
              "      <th>Departamento</th>\n",
              "      <th>Ciudad</th>\n",
              "      <th>Edad</th>\n",
              "      <th>Sexo</th>\n",
              "      <th>Ubicacion</th>\n",
              "      <th>Estado</th>\n",
              "      <th>Casos</th>\n",
              "    </tr>\n",
              "  </thead>\n",
              "  <tbody>\n",
              "    <tr>\n",
              "      <th>1594492</th>\n",
              "      <td>1594533</td>\n",
              "      <td>24/12/2020 0:00:00</td>\n",
              "      <td>BOGOTA</td>\n",
              "      <td>BOGOTA</td>\n",
              "      <td>50</td>\n",
              "      <td>F</td>\n",
              "      <td>Casa</td>\n",
              "      <td>Leve</td>\n",
              "      <td>1</td>\n",
              "    </tr>\n",
              "    <tr>\n",
              "      <th>1594493</th>\n",
              "      <td>1594534</td>\n",
              "      <td>24/12/2020 0:00:00</td>\n",
              "      <td>BOGOTA</td>\n",
              "      <td>BOGOTA</td>\n",
              "      <td>25</td>\n",
              "      <td>M</td>\n",
              "      <td>Casa</td>\n",
              "      <td>Leve</td>\n",
              "      <td>1</td>\n",
              "    </tr>\n",
              "    <tr>\n",
              "      <th>1594494</th>\n",
              "      <td>1594535</td>\n",
              "      <td>24/12/2020 0:00:00</td>\n",
              "      <td>BOGOTA</td>\n",
              "      <td>BOGOTA</td>\n",
              "      <td>55</td>\n",
              "      <td>M</td>\n",
              "      <td>Casa</td>\n",
              "      <td>Leve</td>\n",
              "      <td>1</td>\n",
              "    </tr>\n",
              "    <tr>\n",
              "      <th>1594495</th>\n",
              "      <td>1594536</td>\n",
              "      <td>25/12/2020 0:00:00</td>\n",
              "      <td>BOGOTA</td>\n",
              "      <td>BOGOTA</td>\n",
              "      <td>80</td>\n",
              "      <td>M</td>\n",
              "      <td>Hospital UCI</td>\n",
              "      <td>Grave</td>\n",
              "      <td>1</td>\n",
              "    </tr>\n",
              "    <tr>\n",
              "      <th>1594496</th>\n",
              "      <td>1594537</td>\n",
              "      <td>23/12/2020 0:00:00</td>\n",
              "      <td>BOGOTA</td>\n",
              "      <td>BOGOTA</td>\n",
              "      <td>13</td>\n",
              "      <td>F</td>\n",
              "      <td>Casa</td>\n",
              "      <td>Leve</td>\n",
              "      <td>1</td>\n",
              "    </tr>\n",
              "  </tbody>\n",
              "</table>\n",
              "</div>"
            ],
            "text/plain": [
              "         ID de caso               Fecha  ... Estado Casos\n",
              "1594492     1594533  24/12/2020 0:00:00  ...   Leve     1\n",
              "1594493     1594534  24/12/2020 0:00:00  ...   Leve     1\n",
              "1594494     1594535  24/12/2020 0:00:00  ...   Leve     1\n",
              "1594495     1594536  25/12/2020 0:00:00  ...  Grave     1\n",
              "1594496     1594537  23/12/2020 0:00:00  ...   Leve     1\n",
              "\n",
              "[5 rows x 9 columns]"
            ]
          },
          "metadata": {
            "tags": []
          },
          "execution_count": 9
        }
      ]
    },
    {
      "cell_type": "code",
      "metadata": {
        "id": "85QaT4xNgBpl"
      },
      "source": [
        "#Reemplazar errores de tipeo en cada columna (mayúscula inicial)\n",
        "dfCol['Ciudad'] = dfCol['Ciudad'].apply(lambda x: Mayus(x))\n",
        "dfCol['Departamento'] = dfCol['Departamento'].apply(lambda x: Mayus(x))\n",
        "dfCol['Ubicacion'] = dfCol['Ubicacion'].apply(lambda x: str(x)) #Volver todos los valores tipo str\n",
        "dfCol['Ubicacion'] = dfCol['Ubicacion'].apply(lambda x: Mayus(x))\n",
        "dfCol['Sexo'] = dfCol['Sexo'].apply(lambda x: Mayus(x))\n",
        "#dfCol['Tipo'] = dfCol['Tipo'].apply(lambda x: Mayus(x))\n",
        "dfCol['Estado'] = dfCol['Estado'].apply(lambda x: str(x)) #Volver todos los valores tipo str\n",
        "dfCol['Estado'] = dfCol['Estado'].apply(lambda x: Mayus(x))"
      ],
      "execution_count": 10,
      "outputs": []
    },
    {
      "cell_type": "code",
      "metadata": {
        "id": "ZaKVi58lSEu8",
        "colab": {
          "base_uri": "https://localhost:8080/"
        },
        "outputId": "b68be8b7-2638-4611-b3cc-db6c2b96cff1"
      },
      "source": [
        "dfCol['Estado'].value_counts()"
      ],
      "execution_count": 11,
      "outputs": [
        {
          "output_type": "execute_result",
          "data": {
            "text/plain": [
              "Leve         1518154\n",
              "Fallecido      42171\n",
              "Moderado       25352\n",
              "Nan             5243\n",
              "Grave           3577\n",
              "Name: Estado, dtype: int64"
            ]
          },
          "metadata": {
            "tags": []
          },
          "execution_count": 11
        }
      ]
    },
    {
      "cell_type": "code",
      "metadata": {
        "id": "dTkzoHNQwmh9"
      },
      "source": [
        "dfCol['Fecha'] = pd.to_datetime(dfCol['Fecha']) #Conversión a formato de 'fecha'"
      ],
      "execution_count": 12,
      "outputs": []
    },
    {
      "cell_type": "code",
      "metadata": {
        "id": "8ztI40cp0la6",
        "colab": {
          "base_uri": "https://localhost:8080/"
        },
        "outputId": "96d24f7d-b47b-4504-9055-282811c5cbe5"
      },
      "source": [
        "dfCol.dtypes"
      ],
      "execution_count": 13,
      "outputs": [
        {
          "output_type": "execute_result",
          "data": {
            "text/plain": [
              "ID de caso               int64\n",
              "Fecha           datetime64[ns]\n",
              "Departamento            object\n",
              "Ciudad                  object\n",
              "Edad                     int64\n",
              "Sexo                    object\n",
              "Ubicacion               object\n",
              "Estado                  object\n",
              "Casos                    int64\n",
              "dtype: object"
            ]
          },
          "metadata": {
            "tags": []
          },
          "execution_count": 13
        }
      ]
    },
    {
      "cell_type": "code",
      "metadata": {
        "id": "C3KWDpg6kxN-",
        "colab": {
          "base_uri": "https://localhost:8080/",
          "height": 198
        },
        "outputId": "cba90783-ffcc-49d4-b610-77ceb3ad16b3"
      },
      "source": [
        "dfCol.head()"
      ],
      "execution_count": 14,
      "outputs": [
        {
          "output_type": "execute_result",
          "data": {
            "text/html": [
              "<div>\n",
              "<style scoped>\n",
              "    .dataframe tbody tr th:only-of-type {\n",
              "        vertical-align: middle;\n",
              "    }\n",
              "\n",
              "    .dataframe tbody tr th {\n",
              "        vertical-align: top;\n",
              "    }\n",
              "\n",
              "    .dataframe thead th {\n",
              "        text-align: right;\n",
              "    }\n",
              "</style>\n",
              "<table border=\"1\" class=\"dataframe\">\n",
              "  <thead>\n",
              "    <tr style=\"text-align: right;\">\n",
              "      <th></th>\n",
              "      <th>ID de caso</th>\n",
              "      <th>Fecha</th>\n",
              "      <th>Departamento</th>\n",
              "      <th>Ciudad</th>\n",
              "      <th>Edad</th>\n",
              "      <th>Sexo</th>\n",
              "      <th>Ubicacion</th>\n",
              "      <th>Estado</th>\n",
              "      <th>Casos</th>\n",
              "    </tr>\n",
              "  </thead>\n",
              "  <tbody>\n",
              "    <tr>\n",
              "      <th>0</th>\n",
              "      <td>1</td>\n",
              "      <td>2020-02-03</td>\n",
              "      <td>Bogota</td>\n",
              "      <td>Bogota</td>\n",
              "      <td>19</td>\n",
              "      <td>F</td>\n",
              "      <td>Casa</td>\n",
              "      <td>Leve</td>\n",
              "      <td>1</td>\n",
              "    </tr>\n",
              "    <tr>\n",
              "      <th>1</th>\n",
              "      <td>2</td>\n",
              "      <td>2020-06-03</td>\n",
              "      <td>Valle</td>\n",
              "      <td>Buga</td>\n",
              "      <td>34</td>\n",
              "      <td>M</td>\n",
              "      <td>Casa</td>\n",
              "      <td>Leve</td>\n",
              "      <td>1</td>\n",
              "    </tr>\n",
              "    <tr>\n",
              "      <th>2</th>\n",
              "      <td>3</td>\n",
              "      <td>2020-07-03</td>\n",
              "      <td>Antioquia</td>\n",
              "      <td>Medellin</td>\n",
              "      <td>50</td>\n",
              "      <td>F</td>\n",
              "      <td>Casa</td>\n",
              "      <td>Leve</td>\n",
              "      <td>1</td>\n",
              "    </tr>\n",
              "    <tr>\n",
              "      <th>3</th>\n",
              "      <td>4</td>\n",
              "      <td>2020-09-03</td>\n",
              "      <td>Antioquia</td>\n",
              "      <td>Medellin</td>\n",
              "      <td>55</td>\n",
              "      <td>M</td>\n",
              "      <td>Casa</td>\n",
              "      <td>Leve</td>\n",
              "      <td>1</td>\n",
              "    </tr>\n",
              "    <tr>\n",
              "      <th>4</th>\n",
              "      <td>5</td>\n",
              "      <td>2020-09-03</td>\n",
              "      <td>Antioquia</td>\n",
              "      <td>Medellin</td>\n",
              "      <td>25</td>\n",
              "      <td>M</td>\n",
              "      <td>Casa</td>\n",
              "      <td>Leve</td>\n",
              "      <td>1</td>\n",
              "    </tr>\n",
              "  </tbody>\n",
              "</table>\n",
              "</div>"
            ],
            "text/plain": [
              "   ID de caso      Fecha Departamento    Ciudad  ...  Sexo Ubicacion Estado Casos\n",
              "0           1 2020-02-03       Bogota    Bogota  ...     F      Casa   Leve     1\n",
              "1           2 2020-06-03        Valle      Buga  ...     M      Casa   Leve     1\n",
              "2           3 2020-07-03    Antioquia  Medellin  ...     F      Casa   Leve     1\n",
              "3           4 2020-09-03    Antioquia  Medellin  ...     M      Casa   Leve     1\n",
              "4           5 2020-09-03    Antioquia  Medellin  ...     M      Casa   Leve     1\n",
              "\n",
              "[5 rows x 9 columns]"
            ]
          },
          "metadata": {
            "tags": []
          },
          "execution_count": 14
        }
      ]
    },
    {
      "cell_type": "markdown",
      "metadata": {
        "id": "APiCorckvtou"
      },
      "source": [
        "#Análisis"
      ]
    },
    {
      "cell_type": "markdown",
      "metadata": {
        "id": "5vJU71y0zwC-"
      },
      "source": [
        "##Casos totales"
      ]
    },
    {
      "cell_type": "code",
      "metadata": {
        "id": "eMC_sxePxsfE",
        "colab": {
          "base_uri": "https://localhost:8080/"
        },
        "outputId": "2c360372-5538-407d-bcf4-ab3804644e5d"
      },
      "source": [
        "casos = dfCol['Casos'].sum()\n",
        "print('Total de casos a nivel nacional:', casos)"
      ],
      "execution_count": 15,
      "outputs": [
        {
          "output_type": "stream",
          "text": [
            "Total de casos a nivel nacional: 1594497\n"
          ],
          "name": "stdout"
        }
      ]
    },
    {
      "cell_type": "markdown",
      "metadata": {
        "id": "J138iNEIz1uO"
      },
      "source": [
        "##Casos por sexo"
      ]
    },
    {
      "cell_type": "code",
      "metadata": {
        "id": "jpdpohy233D8"
      },
      "source": [
        "#Transformar el objeto 'value_counts' en DataFrame\n",
        "dfSexo = dfCol['Sexo']\n",
        "dfSexo = dfSexo.value_counts()\n",
        "dfSexo = dfSexo.rename_axis('Sexo')\n",
        "dfSexo = dfSexo.reset_index(name='Numero')"
      ],
      "execution_count": 16,
      "outputs": []
    },
    {
      "cell_type": "code",
      "metadata": {
        "id": "JEDnrj1cAGOh",
        "colab": {
          "base_uri": "https://localhost:8080/",
          "height": 108
        },
        "outputId": "2249ec46-ff06-4a75-8d77-7ed8d5c765dc"
      },
      "source": [
        "dfSexo['Porcentaje'] = dfSexo['Numero'].apply(lambda x: (x/casos)*100)\n",
        "\n",
        "dfSexo"
      ],
      "execution_count": 17,
      "outputs": [
        {
          "output_type": "execute_result",
          "data": {
            "text/html": [
              "<div>\n",
              "<style scoped>\n",
              "    .dataframe tbody tr th:only-of-type {\n",
              "        vertical-align: middle;\n",
              "    }\n",
              "\n",
              "    .dataframe tbody tr th {\n",
              "        vertical-align: top;\n",
              "    }\n",
              "\n",
              "    .dataframe thead th {\n",
              "        text-align: right;\n",
              "    }\n",
              "</style>\n",
              "<table border=\"1\" class=\"dataframe\">\n",
              "  <thead>\n",
              "    <tr style=\"text-align: right;\">\n",
              "      <th></th>\n",
              "      <th>Sexo</th>\n",
              "      <th>Numero</th>\n",
              "      <th>Porcentaje</th>\n",
              "    </tr>\n",
              "  </thead>\n",
              "  <tbody>\n",
              "    <tr>\n",
              "      <th>0</th>\n",
              "      <td>F</td>\n",
              "      <td>806372</td>\n",
              "      <td>50.572187</td>\n",
              "    </tr>\n",
              "    <tr>\n",
              "      <th>1</th>\n",
              "      <td>M</td>\n",
              "      <td>788125</td>\n",
              "      <td>49.427813</td>\n",
              "    </tr>\n",
              "  </tbody>\n",
              "</table>\n",
              "</div>"
            ],
            "text/plain": [
              "  Sexo  Numero  Porcentaje\n",
              "0    F  806372   50.572187\n",
              "1    M  788125   49.427813"
            ]
          },
          "metadata": {
            "tags": []
          },
          "execution_count": 17
        }
      ]
    },
    {
      "cell_type": "code",
      "metadata": {
        "id": "ksO4oRvgBoeB",
        "colab": {
          "base_uri": "https://localhost:8080/",
          "height": 542
        },
        "outputId": "40ea3a61-db34-47ec-e67d-f3b5e6cf9a7e"
      },
      "source": [
        "fig = go.Figure(data=[go.Pie(labels=dfSexo['Sexo'], values=dfSexo['Numero'], hole=.5)])\n",
        "fig.show()"
      ],
      "execution_count": 18,
      "outputs": [
        {
          "output_type": "display_data",
          "data": {
            "text/html": [
              "<html>\n",
              "<head><meta charset=\"utf-8\" /></head>\n",
              "<body>\n",
              "    <div>\n",
              "            <script src=\"https://cdnjs.cloudflare.com/ajax/libs/mathjax/2.7.5/MathJax.js?config=TeX-AMS-MML_SVG\"></script><script type=\"text/javascript\">if (window.MathJax) {MathJax.Hub.Config({SVG: {font: \"STIX-Web\"}});}</script>\n",
              "                <script type=\"text/javascript\">window.PlotlyConfig = {MathJaxConfig: 'local'};</script>\n",
              "        <script src=\"https://cdn.plot.ly/plotly-latest.min.js\"></script>    \n",
              "            <div id=\"037a21ee-ded1-4839-a833-fcebe5a8cc3e\" class=\"plotly-graph-div\" style=\"height:525px; width:100%;\"></div>\n",
              "            <script type=\"text/javascript\">\n",
              "                \n",
              "                    window.PLOTLYENV=window.PLOTLYENV || {};\n",
              "                    \n",
              "                if (document.getElementById(\"037a21ee-ded1-4839-a833-fcebe5a8cc3e\")) {\n",
              "                    Plotly.newPlot(\n",
              "                        '037a21ee-ded1-4839-a833-fcebe5a8cc3e',\n",
              "                        [{\"hole\": 0.5, \"labels\": [\"F\", \"M\"], \"type\": \"pie\", \"values\": [806372, 788125]}],\n",
              "                        {\"template\": {\"data\": {\"bar\": [{\"error_x\": {\"color\": \"#2a3f5f\"}, \"error_y\": {\"color\": \"#2a3f5f\"}, \"marker\": {\"line\": {\"color\": \"#E5ECF6\", \"width\": 0.5}}, \"type\": \"bar\"}], \"barpolar\": [{\"marker\": {\"line\": {\"color\": \"#E5ECF6\", \"width\": 0.5}}, \"type\": \"barpolar\"}], \"carpet\": [{\"aaxis\": {\"endlinecolor\": \"#2a3f5f\", \"gridcolor\": \"white\", \"linecolor\": \"white\", \"minorgridcolor\": \"white\", \"startlinecolor\": \"#2a3f5f\"}, \"baxis\": {\"endlinecolor\": \"#2a3f5f\", \"gridcolor\": \"white\", \"linecolor\": \"white\", \"minorgridcolor\": \"white\", \"startlinecolor\": \"#2a3f5f\"}, \"type\": \"carpet\"}], \"choropleth\": [{\"colorbar\": {\"outlinewidth\": 0, \"ticks\": \"\"}, \"type\": \"choropleth\"}], \"contour\": [{\"colorbar\": {\"outlinewidth\": 0, \"ticks\": \"\"}, \"colorscale\": [[0.0, \"#0d0887\"], [0.1111111111111111, \"#46039f\"], [0.2222222222222222, \"#7201a8\"], [0.3333333333333333, \"#9c179e\"], [0.4444444444444444, \"#bd3786\"], [0.5555555555555556, \"#d8576b\"], [0.6666666666666666, \"#ed7953\"], [0.7777777777777778, \"#fb9f3a\"], [0.8888888888888888, \"#fdca26\"], [1.0, \"#f0f921\"]], \"type\": \"contour\"}], \"contourcarpet\": [{\"colorbar\": {\"outlinewidth\": 0, \"ticks\": \"\"}, \"type\": \"contourcarpet\"}], \"heatmap\": [{\"colorbar\": {\"outlinewidth\": 0, \"ticks\": \"\"}, \"colorscale\": [[0.0, \"#0d0887\"], [0.1111111111111111, \"#46039f\"], [0.2222222222222222, \"#7201a8\"], [0.3333333333333333, \"#9c179e\"], [0.4444444444444444, \"#bd3786\"], [0.5555555555555556, \"#d8576b\"], [0.6666666666666666, \"#ed7953\"], [0.7777777777777778, \"#fb9f3a\"], [0.8888888888888888, \"#fdca26\"], [1.0, \"#f0f921\"]], \"type\": \"heatmap\"}], \"heatmapgl\": [{\"colorbar\": {\"outlinewidth\": 0, \"ticks\": \"\"}, \"colorscale\": [[0.0, \"#0d0887\"], [0.1111111111111111, \"#46039f\"], [0.2222222222222222, \"#7201a8\"], [0.3333333333333333, \"#9c179e\"], [0.4444444444444444, \"#bd3786\"], [0.5555555555555556, \"#d8576b\"], [0.6666666666666666, \"#ed7953\"], [0.7777777777777778, \"#fb9f3a\"], [0.8888888888888888, \"#fdca26\"], [1.0, \"#f0f921\"]], \"type\": \"heatmapgl\"}], \"histogram\": [{\"marker\": {\"colorbar\": {\"outlinewidth\": 0, \"ticks\": \"\"}}, \"type\": \"histogram\"}], \"histogram2d\": [{\"colorbar\": {\"outlinewidth\": 0, \"ticks\": \"\"}, \"colorscale\": [[0.0, \"#0d0887\"], [0.1111111111111111, \"#46039f\"], [0.2222222222222222, \"#7201a8\"], [0.3333333333333333, \"#9c179e\"], [0.4444444444444444, \"#bd3786\"], [0.5555555555555556, \"#d8576b\"], [0.6666666666666666, \"#ed7953\"], [0.7777777777777778, \"#fb9f3a\"], [0.8888888888888888, \"#fdca26\"], [1.0, \"#f0f921\"]], \"type\": \"histogram2d\"}], \"histogram2dcontour\": [{\"colorbar\": {\"outlinewidth\": 0, \"ticks\": \"\"}, \"colorscale\": [[0.0, \"#0d0887\"], [0.1111111111111111, \"#46039f\"], [0.2222222222222222, \"#7201a8\"], [0.3333333333333333, \"#9c179e\"], [0.4444444444444444, \"#bd3786\"], [0.5555555555555556, \"#d8576b\"], [0.6666666666666666, \"#ed7953\"], [0.7777777777777778, \"#fb9f3a\"], [0.8888888888888888, \"#fdca26\"], [1.0, \"#f0f921\"]], \"type\": \"histogram2dcontour\"}], \"mesh3d\": [{\"colorbar\": {\"outlinewidth\": 0, \"ticks\": \"\"}, \"type\": \"mesh3d\"}], \"parcoords\": [{\"line\": {\"colorbar\": {\"outlinewidth\": 0, \"ticks\": \"\"}}, \"type\": \"parcoords\"}], \"pie\": [{\"automargin\": true, \"type\": \"pie\"}], \"scatter\": [{\"marker\": {\"colorbar\": {\"outlinewidth\": 0, \"ticks\": \"\"}}, \"type\": \"scatter\"}], \"scatter3d\": [{\"line\": {\"colorbar\": {\"outlinewidth\": 0, \"ticks\": \"\"}}, \"marker\": {\"colorbar\": {\"outlinewidth\": 0, \"ticks\": \"\"}}, \"type\": \"scatter3d\"}], \"scattercarpet\": [{\"marker\": {\"colorbar\": {\"outlinewidth\": 0, \"ticks\": \"\"}}, \"type\": \"scattercarpet\"}], \"scattergeo\": [{\"marker\": {\"colorbar\": {\"outlinewidth\": 0, \"ticks\": \"\"}}, \"type\": \"scattergeo\"}], \"scattergl\": [{\"marker\": {\"colorbar\": {\"outlinewidth\": 0, \"ticks\": \"\"}}, \"type\": \"scattergl\"}], \"scattermapbox\": [{\"marker\": {\"colorbar\": {\"outlinewidth\": 0, \"ticks\": \"\"}}, \"type\": \"scattermapbox\"}], \"scatterpolar\": [{\"marker\": {\"colorbar\": {\"outlinewidth\": 0, \"ticks\": \"\"}}, \"type\": \"scatterpolar\"}], \"scatterpolargl\": [{\"marker\": {\"colorbar\": {\"outlinewidth\": 0, \"ticks\": \"\"}}, \"type\": \"scatterpolargl\"}], \"scatterternary\": [{\"marker\": {\"colorbar\": {\"outlinewidth\": 0, \"ticks\": \"\"}}, \"type\": \"scatterternary\"}], \"surface\": [{\"colorbar\": {\"outlinewidth\": 0, \"ticks\": \"\"}, \"colorscale\": [[0.0, \"#0d0887\"], [0.1111111111111111, \"#46039f\"], [0.2222222222222222, \"#7201a8\"], [0.3333333333333333, \"#9c179e\"], [0.4444444444444444, \"#bd3786\"], [0.5555555555555556, \"#d8576b\"], [0.6666666666666666, \"#ed7953\"], [0.7777777777777778, \"#fb9f3a\"], [0.8888888888888888, \"#fdca26\"], [1.0, \"#f0f921\"]], \"type\": \"surface\"}], \"table\": [{\"cells\": {\"fill\": {\"color\": \"#EBF0F8\"}, \"line\": {\"color\": \"white\"}}, \"header\": {\"fill\": {\"color\": \"#C8D4E3\"}, \"line\": {\"color\": \"white\"}}, \"type\": \"table\"}]}, \"layout\": {\"annotationdefaults\": {\"arrowcolor\": \"#2a3f5f\", \"arrowhead\": 0, \"arrowwidth\": 1}, \"coloraxis\": {\"colorbar\": {\"outlinewidth\": 0, \"ticks\": \"\"}}, \"colorscale\": {\"diverging\": [[0, \"#8e0152\"], [0.1, \"#c51b7d\"], [0.2, \"#de77ae\"], [0.3, \"#f1b6da\"], [0.4, \"#fde0ef\"], [0.5, \"#f7f7f7\"], [0.6, \"#e6f5d0\"], [0.7, \"#b8e186\"], [0.8, \"#7fbc41\"], [0.9, \"#4d9221\"], [1, \"#276419\"]], \"sequential\": [[0.0, \"#0d0887\"], [0.1111111111111111, \"#46039f\"], [0.2222222222222222, \"#7201a8\"], [0.3333333333333333, \"#9c179e\"], [0.4444444444444444, \"#bd3786\"], [0.5555555555555556, \"#d8576b\"], [0.6666666666666666, \"#ed7953\"], [0.7777777777777778, \"#fb9f3a\"], [0.8888888888888888, \"#fdca26\"], [1.0, \"#f0f921\"]], \"sequentialminus\": [[0.0, \"#0d0887\"], [0.1111111111111111, \"#46039f\"], [0.2222222222222222, \"#7201a8\"], [0.3333333333333333, \"#9c179e\"], [0.4444444444444444, \"#bd3786\"], [0.5555555555555556, \"#d8576b\"], [0.6666666666666666, \"#ed7953\"], [0.7777777777777778, \"#fb9f3a\"], [0.8888888888888888, \"#fdca26\"], [1.0, \"#f0f921\"]]}, \"colorway\": [\"#636efa\", \"#EF553B\", \"#00cc96\", \"#ab63fa\", \"#FFA15A\", \"#19d3f3\", \"#FF6692\", \"#B6E880\", \"#FF97FF\", \"#FECB52\"], \"font\": {\"color\": \"#2a3f5f\"}, \"geo\": {\"bgcolor\": \"white\", \"lakecolor\": \"white\", \"landcolor\": \"#E5ECF6\", \"showlakes\": true, \"showland\": true, \"subunitcolor\": \"white\"}, \"hoverlabel\": {\"align\": \"left\"}, \"hovermode\": \"closest\", \"mapbox\": {\"style\": \"light\"}, \"paper_bgcolor\": \"white\", \"plot_bgcolor\": \"#E5ECF6\", \"polar\": {\"angularaxis\": {\"gridcolor\": \"white\", \"linecolor\": \"white\", \"ticks\": \"\"}, \"bgcolor\": \"#E5ECF6\", \"radialaxis\": {\"gridcolor\": \"white\", \"linecolor\": \"white\", \"ticks\": \"\"}}, \"scene\": {\"xaxis\": {\"backgroundcolor\": \"#E5ECF6\", \"gridcolor\": \"white\", \"gridwidth\": 2, \"linecolor\": \"white\", \"showbackground\": true, \"ticks\": \"\", \"zerolinecolor\": \"white\"}, \"yaxis\": {\"backgroundcolor\": \"#E5ECF6\", \"gridcolor\": \"white\", \"gridwidth\": 2, \"linecolor\": \"white\", \"showbackground\": true, \"ticks\": \"\", \"zerolinecolor\": \"white\"}, \"zaxis\": {\"backgroundcolor\": \"#E5ECF6\", \"gridcolor\": \"white\", \"gridwidth\": 2, \"linecolor\": \"white\", \"showbackground\": true, \"ticks\": \"\", \"zerolinecolor\": \"white\"}}, \"shapedefaults\": {\"line\": {\"color\": \"#2a3f5f\"}}, \"ternary\": {\"aaxis\": {\"gridcolor\": \"white\", \"linecolor\": \"white\", \"ticks\": \"\"}, \"baxis\": {\"gridcolor\": \"white\", \"linecolor\": \"white\", \"ticks\": \"\"}, \"bgcolor\": \"#E5ECF6\", \"caxis\": {\"gridcolor\": \"white\", \"linecolor\": \"white\", \"ticks\": \"\"}}, \"title\": {\"x\": 0.05}, \"xaxis\": {\"automargin\": true, \"gridcolor\": \"white\", \"linecolor\": \"white\", \"ticks\": \"\", \"title\": {\"standoff\": 15}, \"zerolinecolor\": \"white\", \"zerolinewidth\": 2}, \"yaxis\": {\"automargin\": true, \"gridcolor\": \"white\", \"linecolor\": \"white\", \"ticks\": \"\", \"title\": {\"standoff\": 15}, \"zerolinecolor\": \"white\", \"zerolinewidth\": 2}}}},\n",
              "                        {\"responsive\": true}\n",
              "                    ).then(function(){\n",
              "                            \n",
              "var gd = document.getElementById('037a21ee-ded1-4839-a833-fcebe5a8cc3e');\n",
              "var x = new MutationObserver(function (mutations, observer) {{\n",
              "        var display = window.getComputedStyle(gd).display;\n",
              "        if (!display || display === 'none') {{\n",
              "            console.log([gd, 'removed!']);\n",
              "            Plotly.purge(gd);\n",
              "            observer.disconnect();\n",
              "        }}\n",
              "}});\n",
              "\n",
              "// Listen for the removal of the full notebook cells\n",
              "var notebookContainer = gd.closest('#notebook-container');\n",
              "if (notebookContainer) {{\n",
              "    x.observe(notebookContainer, {childList: true});\n",
              "}}\n",
              "\n",
              "// Listen for the clearing of the current output cell\n",
              "var outputEl = gd.closest('.output');\n",
              "if (outputEl) {{\n",
              "    x.observe(outputEl, {childList: true});\n",
              "}}\n",
              "\n",
              "                        })\n",
              "                };\n",
              "                \n",
              "            </script>\n",
              "        </div>\n",
              "</body>\n",
              "</html>"
            ]
          },
          "metadata": {
            "tags": []
          }
        }
      ]
    },
    {
      "cell_type": "markdown",
      "metadata": {
        "id": "IdE1FQFq1lDd"
      },
      "source": [
        "##Casos por departamentos"
      ]
    },
    {
      "cell_type": "code",
      "metadata": {
        "id": "dAKthdqU7BV4"
      },
      "source": [
        "#Transformar el objeto 'value_counts' en DataFrame\n",
        "dfDept = dfCol['Departamento']\n",
        "dfDept = dfDept.value_counts()\n",
        "dfDept = dfDept.rename_axis('Departamento')\n",
        "dfDept = dfDept.reset_index(name='Numero')"
      ],
      "execution_count": 19,
      "outputs": []
    },
    {
      "cell_type": "code",
      "metadata": {
        "id": "0lx6CCLu5xPC",
        "colab": {
          "base_uri": "https://localhost:8080/",
          "height": 1000
        },
        "outputId": "814b3b5f-36b7-4209-8cd5-4b88947573b7"
      },
      "source": [
        "dfDept['Porcentaje'] = dfDept['Numero'].apply(lambda x: (x/casos)*100)\n",
        "\n",
        "dfDept"
      ],
      "execution_count": 20,
      "outputs": [
        {
          "output_type": "execute_result",
          "data": {
            "text/html": [
              "<div>\n",
              "<style scoped>\n",
              "    .dataframe tbody tr th:only-of-type {\n",
              "        vertical-align: middle;\n",
              "    }\n",
              "\n",
              "    .dataframe tbody tr th {\n",
              "        vertical-align: top;\n",
              "    }\n",
              "\n",
              "    .dataframe thead th {\n",
              "        text-align: right;\n",
              "    }\n",
              "</style>\n",
              "<table border=\"1\" class=\"dataframe\">\n",
              "  <thead>\n",
              "    <tr style=\"text-align: right;\">\n",
              "      <th></th>\n",
              "      <th>Departamento</th>\n",
              "      <th>Numero</th>\n",
              "      <th>Porcentaje</th>\n",
              "    </tr>\n",
              "  </thead>\n",
              "  <tbody>\n",
              "    <tr>\n",
              "      <th>0</th>\n",
              "      <td>Bogota</td>\n",
              "      <td>452940</td>\n",
              "      <td>28.406450</td>\n",
              "    </tr>\n",
              "    <tr>\n",
              "      <th>1</th>\n",
              "      <td>Antioquia</td>\n",
              "      <td>255845</td>\n",
              "      <td>16.045499</td>\n",
              "    </tr>\n",
              "    <tr>\n",
              "      <th>2</th>\n",
              "      <td>Valle</td>\n",
              "      <td>133536</td>\n",
              "      <td>8.374804</td>\n",
              "    </tr>\n",
              "    <tr>\n",
              "      <th>3</th>\n",
              "      <td>Santander</td>\n",
              "      <td>65278</td>\n",
              "      <td>4.093956</td>\n",
              "    </tr>\n",
              "    <tr>\n",
              "      <th>4</th>\n",
              "      <td>Cundinamarca</td>\n",
              "      <td>64803</td>\n",
              "      <td>4.064166</td>\n",
              "    </tr>\n",
              "    <tr>\n",
              "      <th>5</th>\n",
              "      <td>Barranquilla</td>\n",
              "      <td>54725</td>\n",
              "      <td>3.432117</td>\n",
              "    </tr>\n",
              "    <tr>\n",
              "      <th>6</th>\n",
              "      <td>Tolima</td>\n",
              "      <td>42407</td>\n",
              "      <td>2.659585</td>\n",
              "    </tr>\n",
              "    <tr>\n",
              "      <th>7</th>\n",
              "      <td>Cartagena</td>\n",
              "      <td>42318</td>\n",
              "      <td>2.654003</td>\n",
              "    </tr>\n",
              "    <tr>\n",
              "      <th>8</th>\n",
              "      <td>Norte santander</td>\n",
              "      <td>38993</td>\n",
              "      <td>2.445473</td>\n",
              "    </tr>\n",
              "    <tr>\n",
              "      <th>9</th>\n",
              "      <td>Atlantico</td>\n",
              "      <td>37024</td>\n",
              "      <td>2.321986</td>\n",
              "    </tr>\n",
              "    <tr>\n",
              "      <th>10</th>\n",
              "      <td>Huila</td>\n",
              "      <td>34205</td>\n",
              "      <td>2.145191</td>\n",
              "    </tr>\n",
              "    <tr>\n",
              "      <th>11</th>\n",
              "      <td>Cesar</td>\n",
              "      <td>33161</td>\n",
              "      <td>2.079715</td>\n",
              "    </tr>\n",
              "    <tr>\n",
              "      <th>12</th>\n",
              "      <td>Meta</td>\n",
              "      <td>33144</td>\n",
              "      <td>2.078649</td>\n",
              "    </tr>\n",
              "    <tr>\n",
              "      <th>13</th>\n",
              "      <td>Risaralda</td>\n",
              "      <td>32719</td>\n",
              "      <td>2.051995</td>\n",
              "    </tr>\n",
              "    <tr>\n",
              "      <th>14</th>\n",
              "      <td>Caldas</td>\n",
              "      <td>31604</td>\n",
              "      <td>1.982067</td>\n",
              "    </tr>\n",
              "    <tr>\n",
              "      <th>15</th>\n",
              "      <td>Nariño</td>\n",
              "      <td>30289</td>\n",
              "      <td>1.899596</td>\n",
              "    </tr>\n",
              "    <tr>\n",
              "      <th>16</th>\n",
              "      <td>Cordoba</td>\n",
              "      <td>29428</td>\n",
              "      <td>1.845598</td>\n",
              "    </tr>\n",
              "    <tr>\n",
              "      <th>17</th>\n",
              "      <td>Boyaca</td>\n",
              "      <td>27620</td>\n",
              "      <td>1.732208</td>\n",
              "    </tr>\n",
              "    <tr>\n",
              "      <th>18</th>\n",
              "      <td>Quindio</td>\n",
              "      <td>22919</td>\n",
              "      <td>1.437381</td>\n",
              "    </tr>\n",
              "    <tr>\n",
              "      <th>19</th>\n",
              "      <td>Cauca</td>\n",
              "      <td>18174</td>\n",
              "      <td>1.139795</td>\n",
              "    </tr>\n",
              "    <tr>\n",
              "      <th>20</th>\n",
              "      <td>Sucre</td>\n",
              "      <td>17377</td>\n",
              "      <td>1.089811</td>\n",
              "    </tr>\n",
              "    <tr>\n",
              "      <th>21</th>\n",
              "      <td>Sta marta d.e.</td>\n",
              "      <td>16760</td>\n",
              "      <td>1.051115</td>\n",
              "    </tr>\n",
              "    <tr>\n",
              "      <th>22</th>\n",
              "      <td>Caqueta</td>\n",
              "      <td>14845</td>\n",
              "      <td>0.931015</td>\n",
              "    </tr>\n",
              "    <tr>\n",
              "      <th>23</th>\n",
              "      <td>Guajira</td>\n",
              "      <td>13938</td>\n",
              "      <td>0.874131</td>\n",
              "    </tr>\n",
              "    <tr>\n",
              "      <th>24</th>\n",
              "      <td>Casanare</td>\n",
              "      <td>8579</td>\n",
              "      <td>0.538038</td>\n",
              "    </tr>\n",
              "    <tr>\n",
              "      <th>25</th>\n",
              "      <td>Bolivar</td>\n",
              "      <td>8124</td>\n",
              "      <td>0.509502</td>\n",
              "    </tr>\n",
              "    <tr>\n",
              "      <th>26</th>\n",
              "      <td>Magdalena</td>\n",
              "      <td>7525</td>\n",
              "      <td>0.471936</td>\n",
              "    </tr>\n",
              "    <tr>\n",
              "      <th>27</th>\n",
              "      <td>Putumayo</td>\n",
              "      <td>5791</td>\n",
              "      <td>0.363187</td>\n",
              "    </tr>\n",
              "    <tr>\n",
              "      <th>28</th>\n",
              "      <td>Choco</td>\n",
              "      <td>4800</td>\n",
              "      <td>0.301035</td>\n",
              "    </tr>\n",
              "    <tr>\n",
              "      <th>29</th>\n",
              "      <td>Arauca</td>\n",
              "      <td>4521</td>\n",
              "      <td>0.283538</td>\n",
              "    </tr>\n",
              "    <tr>\n",
              "      <th>30</th>\n",
              "      <td>Amazonas</td>\n",
              "      <td>3231</td>\n",
              "      <td>0.202634</td>\n",
              "    </tr>\n",
              "    <tr>\n",
              "      <th>31</th>\n",
              "      <td>San andres</td>\n",
              "      <td>2432</td>\n",
              "      <td>0.152525</td>\n",
              "    </tr>\n",
              "    <tr>\n",
              "      <th>32</th>\n",
              "      <td>Guaviare</td>\n",
              "      <td>1940</td>\n",
              "      <td>0.121668</td>\n",
              "    </tr>\n",
              "    <tr>\n",
              "      <th>33</th>\n",
              "      <td>Guainia</td>\n",
              "      <td>1229</td>\n",
              "      <td>0.077078</td>\n",
              "    </tr>\n",
              "    <tr>\n",
              "      <th>34</th>\n",
              "      <td>Vichada</td>\n",
              "      <td>1137</td>\n",
              "      <td>0.071308</td>\n",
              "    </tr>\n",
              "    <tr>\n",
              "      <th>35</th>\n",
              "      <td>Vaupes</td>\n",
              "      <td>1136</td>\n",
              "      <td>0.071245</td>\n",
              "    </tr>\n",
              "  </tbody>\n",
              "</table>\n",
              "</div>"
            ],
            "text/plain": [
              "       Departamento  Numero  Porcentaje\n",
              "0            Bogota  452940   28.406450\n",
              "1         Antioquia  255845   16.045499\n",
              "2             Valle  133536    8.374804\n",
              "3         Santander   65278    4.093956\n",
              "4      Cundinamarca   64803    4.064166\n",
              "5      Barranquilla   54725    3.432117\n",
              "6            Tolima   42407    2.659585\n",
              "7         Cartagena   42318    2.654003\n",
              "8   Norte santander   38993    2.445473\n",
              "9         Atlantico   37024    2.321986\n",
              "10            Huila   34205    2.145191\n",
              "11            Cesar   33161    2.079715\n",
              "12             Meta   33144    2.078649\n",
              "13        Risaralda   32719    2.051995\n",
              "14           Caldas   31604    1.982067\n",
              "15           Nariño   30289    1.899596\n",
              "16          Cordoba   29428    1.845598\n",
              "17           Boyaca   27620    1.732208\n",
              "18          Quindio   22919    1.437381\n",
              "19            Cauca   18174    1.139795\n",
              "20            Sucre   17377    1.089811\n",
              "21   Sta marta d.e.   16760    1.051115\n",
              "22          Caqueta   14845    0.931015\n",
              "23          Guajira   13938    0.874131\n",
              "24         Casanare    8579    0.538038\n",
              "25          Bolivar    8124    0.509502\n",
              "26        Magdalena    7525    0.471936\n",
              "27         Putumayo    5791    0.363187\n",
              "28            Choco    4800    0.301035\n",
              "29           Arauca    4521    0.283538\n",
              "30         Amazonas    3231    0.202634\n",
              "31       San andres    2432    0.152525\n",
              "32         Guaviare    1940    0.121668\n",
              "33          Guainia    1229    0.077078\n",
              "34          Vichada    1137    0.071308\n",
              "35           Vaupes    1136    0.071245"
            ]
          },
          "metadata": {
            "tags": []
          },
          "execution_count": 20
        }
      ]
    },
    {
      "cell_type": "code",
      "metadata": {
        "id": "AE7j5lBZCGbT",
        "colab": {
          "base_uri": "https://localhost:8080/",
          "height": 542
        },
        "outputId": "b2bd60ba-98e1-4de7-c53d-a4f994a30f77"
      },
      "source": [
        "fig = px.scatter(x=dfDept['Departamento'], y=dfDept['Numero'],\n",
        "                 size=dfDept['Porcentaje'], #color=dfDept['Departamento'],\n",
        "                 hover_name=dfDept['Departamento'], size_max=50,\n",
        "                 title='Número de casos por departamento o distrito especial', \n",
        "                 labels=list(dfDept['Departamento']))\n",
        "fig.show()"
      ],
      "execution_count": 21,
      "outputs": [
        {
          "output_type": "display_data",
          "data": {
            "text/html": [
              "<html>\n",
              "<head><meta charset=\"utf-8\" /></head>\n",
              "<body>\n",
              "    <div>\n",
              "            <script src=\"https://cdnjs.cloudflare.com/ajax/libs/mathjax/2.7.5/MathJax.js?config=TeX-AMS-MML_SVG\"></script><script type=\"text/javascript\">if (window.MathJax) {MathJax.Hub.Config({SVG: {font: \"STIX-Web\"}});}</script>\n",
              "                <script type=\"text/javascript\">window.PlotlyConfig = {MathJaxConfig: 'local'};</script>\n",
              "        <script src=\"https://cdn.plot.ly/plotly-latest.min.js\"></script>    \n",
              "            <div id=\"d2e981f8-1a5c-465a-91c1-9445306eee22\" class=\"plotly-graph-div\" style=\"height:525px; width:100%;\"></div>\n",
              "            <script type=\"text/javascript\">\n",
              "                \n",
              "                    window.PLOTLYENV=window.PLOTLYENV || {};\n",
              "                    \n",
              "                if (document.getElementById(\"d2e981f8-1a5c-465a-91c1-9445306eee22\")) {\n",
              "                    Plotly.newPlot(\n",
              "                        'd2e981f8-1a5c-465a-91c1-9445306eee22',\n",
              "                        [{\"hoverlabel\": {\"namelength\": 0}, \"hovertemplate\": \"<b>%{hovertext}</b><br><br>x=%{x}<br>y=%{y}<br>size=%{marker.size}\", \"hovertext\": [\"Bogota\", \"Antioquia\", \"Valle\", \"Santander\", \"Cundinamarca\", \"Barranquilla\", \"Tolima\", \"Cartagena\", \"Norte santander\", \"Atlantico\", \"Huila\", \"Cesar\", \"Meta\", \"Risaralda\", \"Caldas\", \"Nari\\u00f1o\", \"Cordoba\", \"Boyaca\", \"Quindio\", \"Cauca\", \"Sucre\", \"Sta marta d.e.\", \"Caqueta\", \"Guajira\", \"Casanare\", \"Bolivar\", \"Magdalena\", \"Putumayo\", \"Choco\", \"Arauca\", \"Amazonas\", \"San andres\", \"Guaviare\", \"Guainia\", \"Vichada\", \"Vaupes\"], \"legendgroup\": \"\", \"marker\": {\"color\": \"#636efa\", \"size\": [28.406450435466486, 16.045498988082134, 8.374804091823314, 4.093955648709279, 4.064165689869595, 3.432116836845726, 2.6595848095041887, 2.654003111953174, 2.445473400075384, 2.321986181222041, 2.145190614971367, 2.079715421226882, 2.0786492542789357, 2.0519950805802707, 1.9820670719355382, 1.899595922726728, 1.845597702598374, 1.732207711899113, 1.4373811929404696, 1.1397951830577293, 1.08981076790988, 1.0511151792697007, 0.931014608368658, 0.8741314659105661, 0.5380380144961076, 0.509502369712831, 0.4719356637234187, 0.36318663503286613, 0.30103537353786175, 0.2835376924509736, 0.2026344358126732, 0.1525245892591833, 0.12166846347155247, 0.0770775987662567, 0.07130775410678102, 0.07124503840396063], \"sizemode\": \"area\", \"sizeref\": 0.011362580174186595, \"symbol\": \"circle\"}, \"mode\": \"markers\", \"name\": \"\", \"showlegend\": false, \"type\": \"scatter\", \"x\": [\"Bogota\", \"Antioquia\", \"Valle\", \"Santander\", \"Cundinamarca\", \"Barranquilla\", \"Tolima\", \"Cartagena\", \"Norte santander\", \"Atlantico\", \"Huila\", \"Cesar\", \"Meta\", \"Risaralda\", \"Caldas\", \"Nari\\u00f1o\", \"Cordoba\", \"Boyaca\", \"Quindio\", \"Cauca\", \"Sucre\", \"Sta marta d.e.\", \"Caqueta\", \"Guajira\", \"Casanare\", \"Bolivar\", \"Magdalena\", \"Putumayo\", \"Choco\", \"Arauca\", \"Amazonas\", \"San andres\", \"Guaviare\", \"Guainia\", \"Vichada\", \"Vaupes\"], \"xaxis\": \"x\", \"y\": [452940, 255845, 133536, 65278, 64803, 54725, 42407, 42318, 38993, 37024, 34205, 33161, 33144, 32719, 31604, 30289, 29428, 27620, 22919, 18174, 17377, 16760, 14845, 13938, 8579, 8124, 7525, 5791, 4800, 4521, 3231, 2432, 1940, 1229, 1137, 1136], \"yaxis\": \"y\"}],\n",
              "                        {\"legend\": {\"itemsizing\": \"constant\", \"tracegroupgap\": 0}, \"template\": {\"data\": {\"bar\": [{\"error_x\": {\"color\": \"#2a3f5f\"}, \"error_y\": {\"color\": \"#2a3f5f\"}, \"marker\": {\"line\": {\"color\": \"#E5ECF6\", \"width\": 0.5}}, \"type\": \"bar\"}], \"barpolar\": [{\"marker\": {\"line\": {\"color\": \"#E5ECF6\", \"width\": 0.5}}, \"type\": \"barpolar\"}], \"carpet\": [{\"aaxis\": {\"endlinecolor\": \"#2a3f5f\", \"gridcolor\": \"white\", \"linecolor\": \"white\", \"minorgridcolor\": \"white\", \"startlinecolor\": \"#2a3f5f\"}, \"baxis\": {\"endlinecolor\": \"#2a3f5f\", \"gridcolor\": \"white\", \"linecolor\": \"white\", \"minorgridcolor\": \"white\", \"startlinecolor\": \"#2a3f5f\"}, \"type\": \"carpet\"}], \"choropleth\": [{\"colorbar\": {\"outlinewidth\": 0, \"ticks\": \"\"}, \"type\": \"choropleth\"}], \"contour\": [{\"colorbar\": {\"outlinewidth\": 0, \"ticks\": \"\"}, \"colorscale\": [[0.0, \"#0d0887\"], [0.1111111111111111, \"#46039f\"], [0.2222222222222222, \"#7201a8\"], [0.3333333333333333, \"#9c179e\"], [0.4444444444444444, \"#bd3786\"], [0.5555555555555556, \"#d8576b\"], [0.6666666666666666, \"#ed7953\"], [0.7777777777777778, \"#fb9f3a\"], [0.8888888888888888, \"#fdca26\"], [1.0, \"#f0f921\"]], \"type\": \"contour\"}], \"contourcarpet\": [{\"colorbar\": {\"outlinewidth\": 0, \"ticks\": \"\"}, \"type\": \"contourcarpet\"}], \"heatmap\": [{\"colorbar\": {\"outlinewidth\": 0, \"ticks\": \"\"}, \"colorscale\": [[0.0, \"#0d0887\"], [0.1111111111111111, \"#46039f\"], [0.2222222222222222, \"#7201a8\"], [0.3333333333333333, \"#9c179e\"], [0.4444444444444444, \"#bd3786\"], [0.5555555555555556, \"#d8576b\"], [0.6666666666666666, \"#ed7953\"], [0.7777777777777778, \"#fb9f3a\"], [0.8888888888888888, \"#fdca26\"], [1.0, \"#f0f921\"]], \"type\": \"heatmap\"}], \"heatmapgl\": [{\"colorbar\": {\"outlinewidth\": 0, \"ticks\": \"\"}, \"colorscale\": [[0.0, \"#0d0887\"], [0.1111111111111111, \"#46039f\"], [0.2222222222222222, \"#7201a8\"], [0.3333333333333333, \"#9c179e\"], [0.4444444444444444, \"#bd3786\"], [0.5555555555555556, \"#d8576b\"], [0.6666666666666666, \"#ed7953\"], [0.7777777777777778, \"#fb9f3a\"], [0.8888888888888888, \"#fdca26\"], [1.0, \"#f0f921\"]], \"type\": \"heatmapgl\"}], \"histogram\": [{\"marker\": {\"colorbar\": {\"outlinewidth\": 0, \"ticks\": \"\"}}, \"type\": \"histogram\"}], \"histogram2d\": [{\"colorbar\": {\"outlinewidth\": 0, \"ticks\": \"\"}, \"colorscale\": [[0.0, \"#0d0887\"], [0.1111111111111111, \"#46039f\"], [0.2222222222222222, \"#7201a8\"], [0.3333333333333333, \"#9c179e\"], [0.4444444444444444, \"#bd3786\"], [0.5555555555555556, \"#d8576b\"], [0.6666666666666666, \"#ed7953\"], [0.7777777777777778, \"#fb9f3a\"], [0.8888888888888888, \"#fdca26\"], [1.0, \"#f0f921\"]], \"type\": \"histogram2d\"}], \"histogram2dcontour\": [{\"colorbar\": {\"outlinewidth\": 0, \"ticks\": \"\"}, \"colorscale\": [[0.0, \"#0d0887\"], [0.1111111111111111, \"#46039f\"], [0.2222222222222222, \"#7201a8\"], [0.3333333333333333, \"#9c179e\"], [0.4444444444444444, \"#bd3786\"], [0.5555555555555556, \"#d8576b\"], [0.6666666666666666, \"#ed7953\"], [0.7777777777777778, \"#fb9f3a\"], [0.8888888888888888, \"#fdca26\"], [1.0, \"#f0f921\"]], \"type\": \"histogram2dcontour\"}], \"mesh3d\": [{\"colorbar\": {\"outlinewidth\": 0, \"ticks\": \"\"}, \"type\": \"mesh3d\"}], \"parcoords\": [{\"line\": {\"colorbar\": {\"outlinewidth\": 0, \"ticks\": \"\"}}, \"type\": \"parcoords\"}], \"pie\": [{\"automargin\": true, \"type\": \"pie\"}], \"scatter\": [{\"marker\": {\"colorbar\": {\"outlinewidth\": 0, \"ticks\": \"\"}}, \"type\": \"scatter\"}], \"scatter3d\": [{\"line\": {\"colorbar\": {\"outlinewidth\": 0, \"ticks\": \"\"}}, \"marker\": {\"colorbar\": {\"outlinewidth\": 0, \"ticks\": \"\"}}, \"type\": \"scatter3d\"}], \"scattercarpet\": [{\"marker\": {\"colorbar\": {\"outlinewidth\": 0, \"ticks\": \"\"}}, \"type\": \"scattercarpet\"}], \"scattergeo\": [{\"marker\": {\"colorbar\": {\"outlinewidth\": 0, \"ticks\": \"\"}}, \"type\": \"scattergeo\"}], \"scattergl\": [{\"marker\": {\"colorbar\": {\"outlinewidth\": 0, \"ticks\": \"\"}}, \"type\": \"scattergl\"}], \"scattermapbox\": [{\"marker\": {\"colorbar\": {\"outlinewidth\": 0, \"ticks\": \"\"}}, \"type\": \"scattermapbox\"}], \"scatterpolar\": [{\"marker\": {\"colorbar\": {\"outlinewidth\": 0, \"ticks\": \"\"}}, \"type\": \"scatterpolar\"}], \"scatterpolargl\": [{\"marker\": {\"colorbar\": {\"outlinewidth\": 0, \"ticks\": \"\"}}, \"type\": \"scatterpolargl\"}], \"scatterternary\": [{\"marker\": {\"colorbar\": {\"outlinewidth\": 0, \"ticks\": \"\"}}, \"type\": \"scatterternary\"}], \"surface\": [{\"colorbar\": {\"outlinewidth\": 0, \"ticks\": \"\"}, \"colorscale\": [[0.0, \"#0d0887\"], [0.1111111111111111, \"#46039f\"], [0.2222222222222222, \"#7201a8\"], [0.3333333333333333, \"#9c179e\"], [0.4444444444444444, \"#bd3786\"], [0.5555555555555556, \"#d8576b\"], [0.6666666666666666, \"#ed7953\"], [0.7777777777777778, \"#fb9f3a\"], [0.8888888888888888, \"#fdca26\"], [1.0, \"#f0f921\"]], \"type\": \"surface\"}], \"table\": [{\"cells\": {\"fill\": {\"color\": \"#EBF0F8\"}, \"line\": {\"color\": \"white\"}}, \"header\": {\"fill\": {\"color\": \"#C8D4E3\"}, \"line\": {\"color\": \"white\"}}, \"type\": \"table\"}]}, \"layout\": {\"annotationdefaults\": {\"arrowcolor\": \"#2a3f5f\", \"arrowhead\": 0, \"arrowwidth\": 1}, \"coloraxis\": {\"colorbar\": {\"outlinewidth\": 0, \"ticks\": \"\"}}, \"colorscale\": {\"diverging\": [[0, \"#8e0152\"], [0.1, \"#c51b7d\"], [0.2, \"#de77ae\"], [0.3, \"#f1b6da\"], [0.4, \"#fde0ef\"], [0.5, \"#f7f7f7\"], [0.6, \"#e6f5d0\"], [0.7, \"#b8e186\"], [0.8, \"#7fbc41\"], [0.9, \"#4d9221\"], [1, \"#276419\"]], \"sequential\": [[0.0, \"#0d0887\"], [0.1111111111111111, \"#46039f\"], [0.2222222222222222, \"#7201a8\"], [0.3333333333333333, \"#9c179e\"], [0.4444444444444444, \"#bd3786\"], [0.5555555555555556, \"#d8576b\"], [0.6666666666666666, \"#ed7953\"], [0.7777777777777778, \"#fb9f3a\"], [0.8888888888888888, \"#fdca26\"], [1.0, \"#f0f921\"]], \"sequentialminus\": [[0.0, \"#0d0887\"], [0.1111111111111111, \"#46039f\"], [0.2222222222222222, \"#7201a8\"], [0.3333333333333333, \"#9c179e\"], [0.4444444444444444, \"#bd3786\"], [0.5555555555555556, \"#d8576b\"], [0.6666666666666666, \"#ed7953\"], [0.7777777777777778, \"#fb9f3a\"], [0.8888888888888888, \"#fdca26\"], [1.0, \"#f0f921\"]]}, \"colorway\": [\"#636efa\", \"#EF553B\", \"#00cc96\", \"#ab63fa\", \"#FFA15A\", \"#19d3f3\", \"#FF6692\", \"#B6E880\", \"#FF97FF\", \"#FECB52\"], \"font\": {\"color\": \"#2a3f5f\"}, \"geo\": {\"bgcolor\": \"white\", \"lakecolor\": \"white\", \"landcolor\": \"#E5ECF6\", \"showlakes\": true, \"showland\": true, \"subunitcolor\": \"white\"}, \"hoverlabel\": {\"align\": \"left\"}, \"hovermode\": \"closest\", \"mapbox\": {\"style\": \"light\"}, \"paper_bgcolor\": \"white\", \"plot_bgcolor\": \"#E5ECF6\", \"polar\": {\"angularaxis\": {\"gridcolor\": \"white\", \"linecolor\": \"white\", \"ticks\": \"\"}, \"bgcolor\": \"#E5ECF6\", \"radialaxis\": {\"gridcolor\": \"white\", \"linecolor\": \"white\", \"ticks\": \"\"}}, \"scene\": {\"xaxis\": {\"backgroundcolor\": \"#E5ECF6\", \"gridcolor\": \"white\", \"gridwidth\": 2, \"linecolor\": \"white\", \"showbackground\": true, \"ticks\": \"\", \"zerolinecolor\": \"white\"}, \"yaxis\": {\"backgroundcolor\": \"#E5ECF6\", \"gridcolor\": \"white\", \"gridwidth\": 2, \"linecolor\": \"white\", \"showbackground\": true, \"ticks\": \"\", \"zerolinecolor\": \"white\"}, \"zaxis\": {\"backgroundcolor\": \"#E5ECF6\", \"gridcolor\": \"white\", \"gridwidth\": 2, \"linecolor\": \"white\", \"showbackground\": true, \"ticks\": \"\", \"zerolinecolor\": \"white\"}}, \"shapedefaults\": {\"line\": {\"color\": \"#2a3f5f\"}}, \"ternary\": {\"aaxis\": {\"gridcolor\": \"white\", \"linecolor\": \"white\", \"ticks\": \"\"}, \"baxis\": {\"gridcolor\": \"white\", \"linecolor\": \"white\", \"ticks\": \"\"}, \"bgcolor\": \"#E5ECF6\", \"caxis\": {\"gridcolor\": \"white\", \"linecolor\": \"white\", \"ticks\": \"\"}}, \"title\": {\"x\": 0.05}, \"xaxis\": {\"automargin\": true, \"gridcolor\": \"white\", \"linecolor\": \"white\", \"ticks\": \"\", \"title\": {\"standoff\": 15}, \"zerolinecolor\": \"white\", \"zerolinewidth\": 2}, \"yaxis\": {\"automargin\": true, \"gridcolor\": \"white\", \"linecolor\": \"white\", \"ticks\": \"\", \"title\": {\"standoff\": 15}, \"zerolinecolor\": \"white\", \"zerolinewidth\": 2}}}, \"title\": {\"text\": \"N\\u00famero de casos por departamento o distrito especial\"}, \"xaxis\": {\"anchor\": \"y\", \"domain\": [0.0, 1.0], \"title\": {\"text\": \"x\"}}, \"yaxis\": {\"anchor\": \"x\", \"domain\": [0.0, 1.0], \"title\": {\"text\": \"y\"}}},\n",
              "                        {\"responsive\": true}\n",
              "                    ).then(function(){\n",
              "                            \n",
              "var gd = document.getElementById('d2e981f8-1a5c-465a-91c1-9445306eee22');\n",
              "var x = new MutationObserver(function (mutations, observer) {{\n",
              "        var display = window.getComputedStyle(gd).display;\n",
              "        if (!display || display === 'none') {{\n",
              "            console.log([gd, 'removed!']);\n",
              "            Plotly.purge(gd);\n",
              "            observer.disconnect();\n",
              "        }}\n",
              "}});\n",
              "\n",
              "// Listen for the removal of the full notebook cells\n",
              "var notebookContainer = gd.closest('#notebook-container');\n",
              "if (notebookContainer) {{\n",
              "    x.observe(notebookContainer, {childList: true});\n",
              "}}\n",
              "\n",
              "// Listen for the clearing of the current output cell\n",
              "var outputEl = gd.closest('.output');\n",
              "if (outputEl) {{\n",
              "    x.observe(outputEl, {childList: true});\n",
              "}}\n",
              "\n",
              "                        })\n",
              "                };\n",
              "                \n",
              "            </script>\n",
              "        </div>\n",
              "</body>\n",
              "</html>"
            ]
          },
          "metadata": {
            "tags": []
          }
        }
      ]
    },
    {
      "cell_type": "markdown",
      "metadata": {
        "id": "dSOJSLzb7qP4"
      },
      "source": [
        "##Ubicación de los casos"
      ]
    },
    {
      "cell_type": "code",
      "metadata": {
        "id": "uU30AzCB7sx4",
        "colab": {
          "base_uri": "https://localhost:8080/",
          "height": 198
        },
        "outputId": "a5132860-84fc-48af-f122-4d070c013b84"
      },
      "source": [
        "#Transformar el objeto 'value_counts' en DataFrame\n",
        "dfUbicacion = dfCol['Ubicacion']\n",
        "dfUbicacion = dfUbicacion.value_counts()\n",
        "dfUbicacion = dfUbicacion.rename_axis('Ubicacion')\n",
        "dfUbicacion = dfUbicacion.reset_index(name='Numero')\n",
        "\n",
        "dfUbicacion"
      ],
      "execution_count": 22,
      "outputs": [
        {
          "output_type": "execute_result",
          "data": {
            "text/html": [
              "<div>\n",
              "<style scoped>\n",
              "    .dataframe tbody tr th:only-of-type {\n",
              "        vertical-align: middle;\n",
              "    }\n",
              "\n",
              "    .dataframe tbody tr th {\n",
              "        vertical-align: top;\n",
              "    }\n",
              "\n",
              "    .dataframe thead th {\n",
              "        text-align: right;\n",
              "    }\n",
              "</style>\n",
              "<table border=\"1\" class=\"dataframe\">\n",
              "  <thead>\n",
              "    <tr style=\"text-align: right;\">\n",
              "      <th></th>\n",
              "      <th>Ubicacion</th>\n",
              "      <th>Numero</th>\n",
              "    </tr>\n",
              "  </thead>\n",
              "  <tbody>\n",
              "    <tr>\n",
              "      <th>0</th>\n",
              "      <td>Casa</td>\n",
              "      <td>1518154</td>\n",
              "    </tr>\n",
              "    <tr>\n",
              "      <th>1</th>\n",
              "      <td>Fallecido</td>\n",
              "      <td>42171</td>\n",
              "    </tr>\n",
              "    <tr>\n",
              "      <th>2</th>\n",
              "      <td>Hospital</td>\n",
              "      <td>25352</td>\n",
              "    </tr>\n",
              "    <tr>\n",
              "      <th>3</th>\n",
              "      <td>Nan</td>\n",
              "      <td>5243</td>\n",
              "    </tr>\n",
              "    <tr>\n",
              "      <th>4</th>\n",
              "      <td>Hospital UCI</td>\n",
              "      <td>3577</td>\n",
              "    </tr>\n",
              "  </tbody>\n",
              "</table>\n",
              "</div>"
            ],
            "text/plain": [
              "      Ubicacion   Numero\n",
              "0          Casa  1518154\n",
              "1     Fallecido    42171\n",
              "2      Hospital    25352\n",
              "3           Nan     5243\n",
              "4  Hospital UCI     3577"
            ]
          },
          "metadata": {
            "tags": []
          },
          "execution_count": 22
        }
      ]
    }
  ]
}