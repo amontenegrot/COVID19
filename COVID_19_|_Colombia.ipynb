{
  "nbformat": 4,
  "nbformat_minor": 0,
  "metadata": {
    "colab": {
      "name": "COVID-19 | Colombia.ipynb",
      "provenance": [],
      "authorship_tag": "ABX9TyPQ4EipkPpMjduu3imGTKaQ",
      "include_colab_link": true
    },
    "kernelspec": {
      "name": "python3",
      "display_name": "Python 3"
    }
  },
  "cells": [
    {
      "cell_type": "markdown",
      "metadata": {
        "id": "view-in-github",
        "colab_type": "text"
      },
      "source": [
        "<a href=\"https://colab.research.google.com/github/amontenegrot/COVID19/blob/main/COVID_19_%7C_Colombia.ipynb\" target=\"_parent\"><img src=\"https://colab.research.google.com/assets/colab-badge.svg\" alt=\"Open In Colab\"/></a>"
      ]
    },
    {
      "cell_type": "markdown",
      "metadata": {
        "id": "jBb9FWvFAzWj"
      },
      "source": [
        "#Importar datos\n",
        "\n",
        "Datos oficiales:\n",
        "[Mundo](https://ourworldindata.org/coronavirus-source-data)\n",
        "\n",
        "[Colombia](https://www.ins.gov.co/Noticias/Paginas/Coronavirus.aspx)\n",
        "\n",
        "[Bogotá](http://saludata.saludcapital.gov.co/osb/index.php/datos-de-salud/enfermedades-trasmisibles/covid19/?unapproved=410&moderation-hash=b01afdf1c01305df1f6b8a6a02826da5#comment-410)\n",
        "\n",
        "---\n",
        "[Genética UNAL](http://www.genetica.unal.edu.co/gibbs/index.php?id=covid19-en-colombia)"
      ]
    },
    {
      "cell_type": "code",
      "metadata": {
        "id": "vYg5Y5-1604g"
      },
      "source": [
        "import pandas as pd\n",
        "import numpy as np\n",
        "import cufflinks as cf\n",
        "#import pycountry\n",
        "\n",
        "import plotly.express as px\n",
        "import plotly.graph_objects as go\n",
        "import plotly.offline as py\n",
        "from plotly.subplots import make_subplots\n",
        "from pylab import *\n",
        "from scipy.optimize import curve_fit\n",
        "from scipy.integrate import odeint\n",
        "\n",
        "dfGlobal = pd.read_csv('https://covid.ourworldindata.org/data/ecdc/total_cases.csv')\n",
        "dfGlobalMuertes = pd.read_csv('https://covid.ourworldindata.org/data/ecdc/total_deaths.csv')\n",
        "dfCol = pd.read_csv('https://www.datos.gov.co/api/views/gt2j-8ykr/rows.csv')"
      ],
      "execution_count": null,
      "outputs": []
    },
    {
      "cell_type": "code",
      "metadata": {
        "id": "oOIL6V99f6Q1"
      },
      "source": [
        "def Mayus(cadena):\n",
        "  if cadena == 'Bogotá D.C.':\n",
        "    return str(cadena)\n",
        "  elif cadena == 'Cartagena D.T. y C.':\n",
        "    return str(cadena)\n",
        "  elif cadena == 'Barranquilla D.E.':\n",
        "    return str(cadena)\n",
        "  elif cadena == 'Santa Marta D.T. y C.':\n",
        "    return str(cadena)\n",
        "  elif cadena == 'Buenaventura D.E.':\n",
        "    return str(cadena)\n",
        "  elif cadena == 'Santa marta D.T. y C.':\n",
        "    return str(cadena)\n",
        "  elif cadena == 'Archipiélago de San Andrés Providencia y Santa Catalina':\n",
        "    return 'San Andrés, Providencia y Santa Catalina'\n",
        "  elif cadena == 'Hospital UCI':\n",
        "    return str(cadena)\n",
        "  #elif cadena == 'F':\n",
        "    #return 'Mujer'\n",
        "  #elif cadena == 'M':\n",
        "    #return 'Hombre'\n",
        "  else:\n",
        "    str(cadena)\n",
        "    return cadena.capitalize()\n",
        "\n",
        "#se busca en una cadena y lo que se busca se reemplaza\n",
        "def Reemplazar(cadena, buscar, reemplazo):\n",
        "  buscar = str(buscar)\n",
        "  reemplazo = str(reemplazo)\n",
        "  return cadena.replace(buscar, reemplazo)"
      ],
      "execution_count": null,
      "outputs": []
    },
    {
      "cell_type": "markdown",
      "metadata": {
        "id": "Xgtag33LinbZ"
      },
      "source": [
        "#Preprocesamiento"
      ]
    },
    {
      "cell_type": "code",
      "metadata": {
        "id": "PEri5mlQ0Yq6",
        "colab": {
          "base_uri": "https://localhost:8080/",
          "height": 306
        },
        "outputId": "ff99e56e-8b2a-4c25-b312-99bcd2b3a059"
      },
      "source": [
        "dfCol.dtypes"
      ],
      "execution_count": null,
      "outputs": [
        {
          "output_type": "execute_result",
          "data": {
            "text/plain": [
              "ID de caso                   int64\n",
              "Fecha de notificación       object\n",
              "Codigo DIVIPOLA              int64\n",
              "Ciudad de ubicación         object\n",
              "Departamento o Distrito     object\n",
              "atención                    object\n",
              "Edad                         int64\n",
              "Sexo                        object\n",
              "Tipo                        object\n",
              "Estado                      object\n",
              "País de procedencia         object\n",
              "FIS                         object\n",
              "Fecha de muerte             object\n",
              "Fecha diagnostico           object\n",
              "Fecha recuperado            object\n",
              "fecha reporte web           object\n",
              "dtype: object"
            ]
          },
          "metadata": {
            "tags": []
          },
          "execution_count": 69
        }
      ]
    },
    {
      "cell_type": "code",
      "metadata": {
        "id": "qxySAkii7QWW",
        "colab": {
          "base_uri": "https://localhost:8080/",
          "height": 119
        },
        "outputId": "3ffb2d3b-7075-45c8-a8e1-a688d0bd5b21"
      },
      "source": [
        "dfCol.columns"
      ],
      "execution_count": null,
      "outputs": [
        {
          "output_type": "execute_result",
          "data": {
            "text/plain": [
              "Index(['ID de caso', 'Fecha de notificación', 'Codigo DIVIPOLA',\n",
              "       'Ciudad de ubicación', 'Departamento o Distrito ', 'atención', 'Edad',\n",
              "       'Sexo', 'Tipo', 'Estado', 'País de procedencia', 'FIS',\n",
              "       'Fecha de muerte', 'Fecha diagnostico', 'Fecha recuperado',\n",
              "       'fecha reporte web'],\n",
              "      dtype='object')"
            ]
          },
          "metadata": {
            "tags": []
          },
          "execution_count": 70
        }
      ]
    },
    {
      "cell_type": "code",
      "metadata": {
        "id": "6ETTO2xKwmcF",
        "colab": {
          "base_uri": "https://localhost:8080/",
          "height": 343
        },
        "outputId": "27d8c506-c3ed-4724-fd30-fcb19158c828"
      },
      "source": [
        "dfCol.tail()"
      ],
      "execution_count": null,
      "outputs": [
        {
          "output_type": "execute_result",
          "data": {
            "text/html": [
              "<div>\n",
              "<style scoped>\n",
              "    .dataframe tbody tr th:only-of-type {\n",
              "        vertical-align: middle;\n",
              "    }\n",
              "\n",
              "    .dataframe tbody tr th {\n",
              "        vertical-align: top;\n",
              "    }\n",
              "\n",
              "    .dataframe thead th {\n",
              "        text-align: right;\n",
              "    }\n",
              "</style>\n",
              "<table border=\"1\" class=\"dataframe\">\n",
              "  <thead>\n",
              "    <tr style=\"text-align: right;\">\n",
              "      <th></th>\n",
              "      <th>ID de caso</th>\n",
              "      <th>Fecha de notificación</th>\n",
              "      <th>Codigo DIVIPOLA</th>\n",
              "      <th>Ciudad de ubicación</th>\n",
              "      <th>Departamento o Distrito</th>\n",
              "      <th>atención</th>\n",
              "      <th>Edad</th>\n",
              "      <th>Sexo</th>\n",
              "      <th>Tipo</th>\n",
              "      <th>Estado</th>\n",
              "      <th>País de procedencia</th>\n",
              "      <th>FIS</th>\n",
              "      <th>Fecha de muerte</th>\n",
              "      <th>Fecha diagnostico</th>\n",
              "      <th>Fecha recuperado</th>\n",
              "      <th>fecha reporte web</th>\n",
              "    </tr>\n",
              "  </thead>\n",
              "  <tbody>\n",
              "    <tr>\n",
              "      <th>7280</th>\n",
              "      <td>7281</td>\n",
              "      <td>2020-04-29T00:00:00.000</td>\n",
              "      <td>11001</td>\n",
              "      <td>Bogotá D.C.</td>\n",
              "      <td>Bogotá D.C.</td>\n",
              "      <td>Casa</td>\n",
              "      <td>34</td>\n",
              "      <td>F</td>\n",
              "      <td>En estudio</td>\n",
              "      <td>Leve</td>\n",
              "      <td>Colombia</td>\n",
              "      <td>2020-04-25T00:00:00.000</td>\n",
              "      <td>-   -</td>\n",
              "      <td>2020-05-01T00:00:00.000</td>\n",
              "      <td>-   -</td>\n",
              "      <td>2020-05-02T00:00:00.000</td>\n",
              "    </tr>\n",
              "    <tr>\n",
              "      <th>7281</th>\n",
              "      <td>7282</td>\n",
              "      <td>2020-04-28T00:00:00.000</td>\n",
              "      <td>11001</td>\n",
              "      <td>Bogotá D.C.</td>\n",
              "      <td>Bogotá D.C.</td>\n",
              "      <td>Casa</td>\n",
              "      <td>86</td>\n",
              "      <td>M</td>\n",
              "      <td>En estudio</td>\n",
              "      <td>Leve</td>\n",
              "      <td>Colombia</td>\n",
              "      <td>2020-04-28T00:00:00.000</td>\n",
              "      <td>-   -</td>\n",
              "      <td>2020-05-01T00:00:00.000</td>\n",
              "      <td>-   -</td>\n",
              "      <td>2020-05-02T00:00:00.000</td>\n",
              "    </tr>\n",
              "    <tr>\n",
              "      <th>7282</th>\n",
              "      <td>7283</td>\n",
              "      <td>2020-04-29T00:00:00.000</td>\n",
              "      <td>11001</td>\n",
              "      <td>Bogotá D.C.</td>\n",
              "      <td>Bogotá D.C.</td>\n",
              "      <td>Casa</td>\n",
              "      <td>3</td>\n",
              "      <td>F</td>\n",
              "      <td>En estudio</td>\n",
              "      <td>Leve</td>\n",
              "      <td>Colombia</td>\n",
              "      <td>2020-04-28T00:00:00.000</td>\n",
              "      <td>-   -</td>\n",
              "      <td>2020-05-01T00:00:00.000</td>\n",
              "      <td>-   -</td>\n",
              "      <td>2020-05-02T00:00:00.000</td>\n",
              "    </tr>\n",
              "    <tr>\n",
              "      <th>7283</th>\n",
              "      <td>7284</td>\n",
              "      <td>2020-05-01T00:00:00.000</td>\n",
              "      <td>11001</td>\n",
              "      <td>Bogotá D.C.</td>\n",
              "      <td>Bogotá D.C.</td>\n",
              "      <td>Casa</td>\n",
              "      <td>30</td>\n",
              "      <td>M</td>\n",
              "      <td>En estudio</td>\n",
              "      <td>Leve</td>\n",
              "      <td>Colombia</td>\n",
              "      <td>2020-04-26T00:00:00.000</td>\n",
              "      <td>-   -</td>\n",
              "      <td>2020-05-01T00:00:00.000</td>\n",
              "      <td>-   -</td>\n",
              "      <td>2020-05-02T00:00:00.000</td>\n",
              "    </tr>\n",
              "    <tr>\n",
              "      <th>7284</th>\n",
              "      <td>7285</td>\n",
              "      <td>2020-05-01T00:00:00.000</td>\n",
              "      <td>11001</td>\n",
              "      <td>Bogotá D.C.</td>\n",
              "      <td>Bogotá D.C.</td>\n",
              "      <td>Casa</td>\n",
              "      <td>53</td>\n",
              "      <td>M</td>\n",
              "      <td>Relacionado</td>\n",
              "      <td>Leve</td>\n",
              "      <td>Colombia</td>\n",
              "      <td>2020-05-01T00:00:00.000</td>\n",
              "      <td>-   -</td>\n",
              "      <td>2020-05-01T00:00:00.000</td>\n",
              "      <td>-   -</td>\n",
              "      <td>2020-05-02T00:00:00.000</td>\n",
              "    </tr>\n",
              "  </tbody>\n",
              "</table>\n",
              "</div>"
            ],
            "text/plain": [
              "      ID de caso  ...        fecha reporte web\n",
              "7280        7281  ...  2020-05-02T00:00:00.000\n",
              "7281        7282  ...  2020-05-02T00:00:00.000\n",
              "7282        7283  ...  2020-05-02T00:00:00.000\n",
              "7283        7284  ...  2020-05-02T00:00:00.000\n",
              "7284        7285  ...  2020-05-02T00:00:00.000\n",
              "\n",
              "[5 rows x 16 columns]"
            ]
          },
          "metadata": {
            "tags": []
          },
          "execution_count": 71
        }
      ]
    },
    {
      "cell_type": "code",
      "metadata": {
        "id": "1iexwxkVJtw4"
      },
      "source": [
        "#Eliminar columnas innecesarias\n",
        "dfCol = dfCol.drop(['ID de caso'], axis=1)\n",
        "dfCol = dfCol.drop(['Codigo DIVIPOLA'], axis=1)\n",
        "dfCol = dfCol.drop(['FIS'], axis=1)\n",
        "dfCol = dfCol.drop(['Fecha de muerte'], axis=1)\n",
        "dfCol = dfCol.drop(['Fecha diagnostico'], axis=1)\n",
        "dfCol = dfCol.drop(['Fecha recuperado'], axis=1)\n",
        "dfCol = dfCol.drop(['fecha reporte web'], axis=1)"
      ],
      "execution_count": null,
      "outputs": []
    },
    {
      "cell_type": "code",
      "metadata": {
        "id": "xn_oFIZQL75U",
        "colab": {
          "base_uri": "https://localhost:8080/",
          "height": 85
        },
        "outputId": "2af068db-4aaf-4001-ac59-04e2a4a256a3"
      },
      "source": [
        "dfCol.columns"
      ],
      "execution_count": null,
      "outputs": [
        {
          "output_type": "execute_result",
          "data": {
            "text/plain": [
              "Index(['Fecha de notificación', 'Ciudad de ubicación',\n",
              "       'Departamento o Distrito ', 'atención', 'Edad', 'Sexo', 'Tipo',\n",
              "       'Estado', 'País de procedencia'],\n",
              "      dtype='object')"
            ]
          },
          "metadata": {
            "tags": []
          },
          "execution_count": 73
        }
      ]
    },
    {
      "cell_type": "code",
      "metadata": {
        "id": "mt2Rk0zIUavB"
      },
      "source": [
        "#Renombrar columnas\n",
        "dfCol = dfCol.rename({'Fecha de notificación':'Fecha',\n",
        "                      'Ciudad de ubicación':'Ciudad',\n",
        "                      'atención':'Ubicacion',\n",
        "                      'Departamento o Distrito ':'Departamento',\n",
        "                      'País de procedencia':'Procedencia'}, axis=1)\n",
        "#Nueva columna con número de casos\n",
        "dfCol['Casos'] = 1"
      ],
      "execution_count": null,
      "outputs": []
    },
    {
      "cell_type": "code",
      "metadata": {
        "id": "xBR2uf2sJ7Mq",
        "colab": {
          "base_uri": "https://localhost:8080/",
          "height": 204
        },
        "outputId": "cef90299-bf97-45cd-d6b2-29b5e3b32066"
      },
      "source": [
        "dfCol.tail()"
      ],
      "execution_count": null,
      "outputs": [
        {
          "output_type": "execute_result",
          "data": {
            "text/html": [
              "<div>\n",
              "<style scoped>\n",
              "    .dataframe tbody tr th:only-of-type {\n",
              "        vertical-align: middle;\n",
              "    }\n",
              "\n",
              "    .dataframe tbody tr th {\n",
              "        vertical-align: top;\n",
              "    }\n",
              "\n",
              "    .dataframe thead th {\n",
              "        text-align: right;\n",
              "    }\n",
              "</style>\n",
              "<table border=\"1\" class=\"dataframe\">\n",
              "  <thead>\n",
              "    <tr style=\"text-align: right;\">\n",
              "      <th></th>\n",
              "      <th>Fecha</th>\n",
              "      <th>Ciudad</th>\n",
              "      <th>Departamento</th>\n",
              "      <th>Ubicacion</th>\n",
              "      <th>Edad</th>\n",
              "      <th>Sexo</th>\n",
              "      <th>Tipo</th>\n",
              "      <th>Estado</th>\n",
              "      <th>Procedencia</th>\n",
              "      <th>Casos</th>\n",
              "    </tr>\n",
              "  </thead>\n",
              "  <tbody>\n",
              "    <tr>\n",
              "      <th>7280</th>\n",
              "      <td>2020-04-29T00:00:00.000</td>\n",
              "      <td>Bogotá D.C.</td>\n",
              "      <td>Bogotá D.C.</td>\n",
              "      <td>Casa</td>\n",
              "      <td>34</td>\n",
              "      <td>F</td>\n",
              "      <td>En estudio</td>\n",
              "      <td>Leve</td>\n",
              "      <td>Colombia</td>\n",
              "      <td>1</td>\n",
              "    </tr>\n",
              "    <tr>\n",
              "      <th>7281</th>\n",
              "      <td>2020-04-28T00:00:00.000</td>\n",
              "      <td>Bogotá D.C.</td>\n",
              "      <td>Bogotá D.C.</td>\n",
              "      <td>Casa</td>\n",
              "      <td>86</td>\n",
              "      <td>M</td>\n",
              "      <td>En estudio</td>\n",
              "      <td>Leve</td>\n",
              "      <td>Colombia</td>\n",
              "      <td>1</td>\n",
              "    </tr>\n",
              "    <tr>\n",
              "      <th>7282</th>\n",
              "      <td>2020-04-29T00:00:00.000</td>\n",
              "      <td>Bogotá D.C.</td>\n",
              "      <td>Bogotá D.C.</td>\n",
              "      <td>Casa</td>\n",
              "      <td>3</td>\n",
              "      <td>F</td>\n",
              "      <td>En estudio</td>\n",
              "      <td>Leve</td>\n",
              "      <td>Colombia</td>\n",
              "      <td>1</td>\n",
              "    </tr>\n",
              "    <tr>\n",
              "      <th>7283</th>\n",
              "      <td>2020-05-01T00:00:00.000</td>\n",
              "      <td>Bogotá D.C.</td>\n",
              "      <td>Bogotá D.C.</td>\n",
              "      <td>Casa</td>\n",
              "      <td>30</td>\n",
              "      <td>M</td>\n",
              "      <td>En estudio</td>\n",
              "      <td>Leve</td>\n",
              "      <td>Colombia</td>\n",
              "      <td>1</td>\n",
              "    </tr>\n",
              "    <tr>\n",
              "      <th>7284</th>\n",
              "      <td>2020-05-01T00:00:00.000</td>\n",
              "      <td>Bogotá D.C.</td>\n",
              "      <td>Bogotá D.C.</td>\n",
              "      <td>Casa</td>\n",
              "      <td>53</td>\n",
              "      <td>M</td>\n",
              "      <td>Relacionado</td>\n",
              "      <td>Leve</td>\n",
              "      <td>Colombia</td>\n",
              "      <td>1</td>\n",
              "    </tr>\n",
              "  </tbody>\n",
              "</table>\n",
              "</div>"
            ],
            "text/plain": [
              "                        Fecha       Ciudad  ... Procedencia Casos\n",
              "7280  2020-04-29T00:00:00.000  Bogotá D.C.  ...    Colombia     1\n",
              "7281  2020-04-28T00:00:00.000  Bogotá D.C.  ...    Colombia     1\n",
              "7282  2020-04-29T00:00:00.000  Bogotá D.C.  ...    Colombia     1\n",
              "7283  2020-05-01T00:00:00.000  Bogotá D.C.  ...    Colombia     1\n",
              "7284  2020-05-01T00:00:00.000  Bogotá D.C.  ...    Colombia     1\n",
              "\n",
              "[5 rows x 10 columns]"
            ]
          },
          "metadata": {
            "tags": []
          },
          "execution_count": 75
        }
      ]
    },
    {
      "cell_type": "code",
      "metadata": {
        "id": "85QaT4xNgBpl"
      },
      "source": [
        "#Reemplazar errores de tipeo en cada columna (mayúscula inicial)\n",
        "dfCol['Ciudad'] = dfCol['Ciudad'].apply(lambda x: Mayus(x))\n",
        "dfCol['Departamento'] = dfCol['Departamento'].apply(lambda x: Mayus(x))\n",
        "dfCol['Ubicacion'] = dfCol['Ubicacion'].apply(lambda x: str(x)) #Volver todos los valores tipo str\n",
        "dfCol['Ubicacion'] = dfCol['Ubicacion'].apply(lambda x: Mayus(x))\n",
        "dfCol['Sexo'] = dfCol['Sexo'].apply(lambda x: Mayus(x))\n",
        "dfCol['Tipo'] = dfCol['Tipo'].apply(lambda x: Mayus(x))\n",
        "dfCol['Estado'] = dfCol['Estado'].apply(lambda x: str(x)) #Volver todos los valores tipo str\n",
        "dfCol['Estado'] = dfCol['Estado'].apply(lambda x: Mayus(x))"
      ],
      "execution_count": null,
      "outputs": []
    },
    {
      "cell_type": "code",
      "metadata": {
        "id": "ZaKVi58lSEu8",
        "colab": {
          "base_uri": "https://localhost:8080/",
          "height": 119
        },
        "outputId": "3dba82c3-cdc4-41e7-a165-7aa6672065c6"
      },
      "source": [
        "dfCol['Estado'].value_counts()"
      ],
      "execution_count": null,
      "outputs": [
        {
          "output_type": "execute_result",
          "data": {
            "text/plain": [
              "Leve         6360\n",
              "Moderado      475\n",
              "Fallecido     324\n",
              "Grave         122\n",
              "Nan             4\n",
              "Name: Estado, dtype: int64"
            ]
          },
          "metadata": {
            "tags": []
          },
          "execution_count": 77
        }
      ]
    },
    {
      "cell_type": "code",
      "metadata": {
        "id": "dTkzoHNQwmh9"
      },
      "source": [
        "dfCol['Fecha'] = pd.to_datetime(dfCol['Fecha']) #Conversión a formato de 'fecha'"
      ],
      "execution_count": null,
      "outputs": []
    },
    {
      "cell_type": "code",
      "metadata": {
        "id": "8ztI40cp0la6",
        "colab": {
          "base_uri": "https://localhost:8080/",
          "height": 204
        },
        "outputId": "7412e25d-d950-4187-dd8a-ffe71ad40cf5"
      },
      "source": [
        "dfCol.dtypes"
      ],
      "execution_count": null,
      "outputs": [
        {
          "output_type": "execute_result",
          "data": {
            "text/plain": [
              "Fecha           datetime64[ns]\n",
              "Ciudad                  object\n",
              "Departamento            object\n",
              "Ubicacion               object\n",
              "Edad                     int64\n",
              "Sexo                    object\n",
              "Tipo                    object\n",
              "Estado                  object\n",
              "Procedencia             object\n",
              "Casos                    int64\n",
              "dtype: object"
            ]
          },
          "metadata": {
            "tags": []
          },
          "execution_count": 79
        }
      ]
    },
    {
      "cell_type": "code",
      "metadata": {
        "id": "C3KWDpg6kxN-",
        "colab": {
          "base_uri": "https://localhost:8080/",
          "height": 204
        },
        "outputId": "81482e0e-2b70-4a92-a372-9d3515b26ab3"
      },
      "source": [
        "dfCol.head()"
      ],
      "execution_count": null,
      "outputs": [
        {
          "output_type": "execute_result",
          "data": {
            "text/html": [
              "<div>\n",
              "<style scoped>\n",
              "    .dataframe tbody tr th:only-of-type {\n",
              "        vertical-align: middle;\n",
              "    }\n",
              "\n",
              "    .dataframe tbody tr th {\n",
              "        vertical-align: top;\n",
              "    }\n",
              "\n",
              "    .dataframe thead th {\n",
              "        text-align: right;\n",
              "    }\n",
              "</style>\n",
              "<table border=\"1\" class=\"dataframe\">\n",
              "  <thead>\n",
              "    <tr style=\"text-align: right;\">\n",
              "      <th></th>\n",
              "      <th>Fecha</th>\n",
              "      <th>Ciudad</th>\n",
              "      <th>Departamento</th>\n",
              "      <th>Ubicacion</th>\n",
              "      <th>Edad</th>\n",
              "      <th>Sexo</th>\n",
              "      <th>Tipo</th>\n",
              "      <th>Estado</th>\n",
              "      <th>Procedencia</th>\n",
              "      <th>Casos</th>\n",
              "    </tr>\n",
              "  </thead>\n",
              "  <tbody>\n",
              "    <tr>\n",
              "      <th>0</th>\n",
              "      <td>2020-03-02</td>\n",
              "      <td>Bogotá D.C.</td>\n",
              "      <td>Bogotá D.C.</td>\n",
              "      <td>Recuperado</td>\n",
              "      <td>19</td>\n",
              "      <td>F</td>\n",
              "      <td>Importado</td>\n",
              "      <td>Leve</td>\n",
              "      <td>Italia</td>\n",
              "      <td>1</td>\n",
              "    </tr>\n",
              "    <tr>\n",
              "      <th>1</th>\n",
              "      <td>2020-03-06</td>\n",
              "      <td>Guadalajara de buga</td>\n",
              "      <td>Valle del cauca</td>\n",
              "      <td>Recuperado</td>\n",
              "      <td>34</td>\n",
              "      <td>M</td>\n",
              "      <td>Importado</td>\n",
              "      <td>Leve</td>\n",
              "      <td>España</td>\n",
              "      <td>1</td>\n",
              "    </tr>\n",
              "    <tr>\n",
              "      <th>2</th>\n",
              "      <td>2020-03-07</td>\n",
              "      <td>Medellín</td>\n",
              "      <td>Antioquia</td>\n",
              "      <td>Recuperado</td>\n",
              "      <td>50</td>\n",
              "      <td>F</td>\n",
              "      <td>Importado</td>\n",
              "      <td>Leve</td>\n",
              "      <td>España</td>\n",
              "      <td>1</td>\n",
              "    </tr>\n",
              "    <tr>\n",
              "      <th>3</th>\n",
              "      <td>2020-03-09</td>\n",
              "      <td>Medellín</td>\n",
              "      <td>Antioquia</td>\n",
              "      <td>Recuperado</td>\n",
              "      <td>55</td>\n",
              "      <td>M</td>\n",
              "      <td>Relacionado</td>\n",
              "      <td>Leve</td>\n",
              "      <td>Colombia</td>\n",
              "      <td>1</td>\n",
              "    </tr>\n",
              "    <tr>\n",
              "      <th>4</th>\n",
              "      <td>2020-03-09</td>\n",
              "      <td>Medellín</td>\n",
              "      <td>Antioquia</td>\n",
              "      <td>Recuperado</td>\n",
              "      <td>25</td>\n",
              "      <td>M</td>\n",
              "      <td>Relacionado</td>\n",
              "      <td>Leve</td>\n",
              "      <td>Colombia</td>\n",
              "      <td>1</td>\n",
              "    </tr>\n",
              "  </tbody>\n",
              "</table>\n",
              "</div>"
            ],
            "text/plain": [
              "       Fecha               Ciudad     Departamento  ... Estado  Procedencia Casos\n",
              "0 2020-03-02          Bogotá D.C.      Bogotá D.C.  ...   Leve       Italia     1\n",
              "1 2020-03-06  Guadalajara de buga  Valle del cauca  ...   Leve       España     1\n",
              "2 2020-03-07             Medellín        Antioquia  ...   Leve       España     1\n",
              "3 2020-03-09             Medellín        Antioquia  ...   Leve     Colombia     1\n",
              "4 2020-03-09             Medellín        Antioquia  ...   Leve     Colombia     1\n",
              "\n",
              "[5 rows x 10 columns]"
            ]
          },
          "metadata": {
            "tags": []
          },
          "execution_count": 80
        }
      ]
    },
    {
      "cell_type": "markdown",
      "metadata": {
        "id": "APiCorckvtou"
      },
      "source": [
        "#Procesamiento"
      ]
    },
    {
      "cell_type": "markdown",
      "metadata": {
        "id": "5vJU71y0zwC-"
      },
      "source": [
        "##Casos totales"
      ]
    },
    {
      "cell_type": "code",
      "metadata": {
        "id": "eMC_sxePxsfE",
        "colab": {
          "base_uri": "https://localhost:8080/",
          "height": 34
        },
        "outputId": "f15e4cf2-77da-4082-98c7-efbdd5e415da"
      },
      "source": [
        "casos = dfCol['Casos'].sum()\n",
        "print('Total de casos a nivel nacional:', casos)"
      ],
      "execution_count": null,
      "outputs": [
        {
          "output_type": "stream",
          "text": [
            "Total de casos a nivel nacional: 7285\n"
          ],
          "name": "stdout"
        }
      ]
    },
    {
      "cell_type": "markdown",
      "metadata": {
        "id": "J138iNEIz1uO"
      },
      "source": [
        "##Casos por sexo"
      ]
    },
    {
      "cell_type": "code",
      "metadata": {
        "id": "jpdpohy233D8"
      },
      "source": [
        "#Transformar el objeto 'value_counts' en DataFrame\n",
        "dfSexo = dfCol['Sexo']\n",
        "dfSexo = dfSexo.value_counts()\n",
        "dfSexo = dfSexo.rename_axis('Sexo')\n",
        "dfSexo = dfSexo.reset_index(name='Numero')"
      ],
      "execution_count": null,
      "outputs": []
    },
    {
      "cell_type": "code",
      "metadata": {
        "id": "JEDnrj1cAGOh",
        "colab": {
          "base_uri": "https://localhost:8080/",
          "height": 111
        },
        "outputId": "b148e420-091a-48aa-c225-090444e730d6"
      },
      "source": [
        "dfSexo['Porcentaje'] = dfSexo['Numero'].apply(lambda x: (x/casos)*100)\n",
        "\n",
        "dfSexo"
      ],
      "execution_count": null,
      "outputs": [
        {
          "output_type": "execute_result",
          "data": {
            "text/html": [
              "<div>\n",
              "<style scoped>\n",
              "    .dataframe tbody tr th:only-of-type {\n",
              "        vertical-align: middle;\n",
              "    }\n",
              "\n",
              "    .dataframe tbody tr th {\n",
              "        vertical-align: top;\n",
              "    }\n",
              "\n",
              "    .dataframe thead th {\n",
              "        text-align: right;\n",
              "    }\n",
              "</style>\n",
              "<table border=\"1\" class=\"dataframe\">\n",
              "  <thead>\n",
              "    <tr style=\"text-align: right;\">\n",
              "      <th></th>\n",
              "      <th>Sexo</th>\n",
              "      <th>Numero</th>\n",
              "      <th>Porcentaje</th>\n",
              "    </tr>\n",
              "  </thead>\n",
              "  <tbody>\n",
              "    <tr>\n",
              "      <th>0</th>\n",
              "      <td>M</td>\n",
              "      <td>3924</td>\n",
              "      <td>53.864104</td>\n",
              "    </tr>\n",
              "    <tr>\n",
              "      <th>1</th>\n",
              "      <td>F</td>\n",
              "      <td>3361</td>\n",
              "      <td>46.135896</td>\n",
              "    </tr>\n",
              "  </tbody>\n",
              "</table>\n",
              "</div>"
            ],
            "text/plain": [
              "  Sexo  Numero  Porcentaje\n",
              "0    M    3924   53.864104\n",
              "1    F    3361   46.135896"
            ]
          },
          "metadata": {
            "tags": []
          },
          "execution_count": 83
        }
      ]
    },
    {
      "cell_type": "code",
      "metadata": {
        "id": "ksO4oRvgBoeB",
        "colab": {
          "base_uri": "https://localhost:8080/",
          "height": 542
        },
        "outputId": "c40f8287-d367-4452-f7f3-74a1c1dfbfbd"
      },
      "source": [
        "fig = go.Figure(data=[go.Pie(labels=dfSexo['Sexo'], values=dfSexo['Numero'], hole=.3)])\n",
        "fig.show()"
      ],
      "execution_count": null,
      "outputs": [
        {
          "output_type": "display_data",
          "data": {
            "text/html": [
              "<html>\n",
              "<head><meta charset=\"utf-8\" /></head>\n",
              "<body>\n",
              "    <div>\n",
              "            <script src=\"https://cdnjs.cloudflare.com/ajax/libs/mathjax/2.7.5/MathJax.js?config=TeX-AMS-MML_SVG\"></script><script type=\"text/javascript\">if (window.MathJax) {MathJax.Hub.Config({SVG: {font: \"STIX-Web\"}});}</script>\n",
              "                <script type=\"text/javascript\">window.PlotlyConfig = {MathJaxConfig: 'local'};</script>\n",
              "        <script src=\"https://cdn.plot.ly/plotly-latest.min.js\"></script>    \n",
              "            <div id=\"1a7879db-ba6c-473f-8dfc-7df9e260703e\" class=\"plotly-graph-div\" style=\"height:525px; width:100%;\"></div>\n",
              "            <script type=\"text/javascript\">\n",
              "                \n",
              "                    window.PLOTLYENV=window.PLOTLYENV || {};\n",
              "                    \n",
              "                if (document.getElementById(\"1a7879db-ba6c-473f-8dfc-7df9e260703e\")) {\n",
              "                    Plotly.newPlot(\n",
              "                        '1a7879db-ba6c-473f-8dfc-7df9e260703e',\n",
              "                        [{\"hole\": 0.3, \"labels\": [\"M\", \"F\"], \"type\": \"pie\", \"values\": [3924, 3361]}],\n",
              "                        {\"template\": {\"data\": {\"bar\": [{\"error_x\": {\"color\": \"#2a3f5f\"}, \"error_y\": {\"color\": \"#2a3f5f\"}, \"marker\": {\"line\": {\"color\": \"#E5ECF6\", \"width\": 0.5}}, \"type\": \"bar\"}], \"barpolar\": [{\"marker\": {\"line\": {\"color\": \"#E5ECF6\", \"width\": 0.5}}, \"type\": \"barpolar\"}], \"carpet\": [{\"aaxis\": {\"endlinecolor\": \"#2a3f5f\", \"gridcolor\": \"white\", \"linecolor\": \"white\", \"minorgridcolor\": \"white\", \"startlinecolor\": \"#2a3f5f\"}, \"baxis\": {\"endlinecolor\": \"#2a3f5f\", \"gridcolor\": \"white\", \"linecolor\": \"white\", \"minorgridcolor\": \"white\", \"startlinecolor\": \"#2a3f5f\"}, \"type\": \"carpet\"}], \"choropleth\": [{\"colorbar\": {\"outlinewidth\": 0, \"ticks\": \"\"}, \"type\": \"choropleth\"}], \"contour\": [{\"colorbar\": {\"outlinewidth\": 0, \"ticks\": \"\"}, \"colorscale\": [[0.0, \"#0d0887\"], [0.1111111111111111, \"#46039f\"], [0.2222222222222222, \"#7201a8\"], [0.3333333333333333, \"#9c179e\"], [0.4444444444444444, \"#bd3786\"], [0.5555555555555556, \"#d8576b\"], [0.6666666666666666, \"#ed7953\"], [0.7777777777777778, \"#fb9f3a\"], [0.8888888888888888, \"#fdca26\"], [1.0, \"#f0f921\"]], \"type\": \"contour\"}], \"contourcarpet\": [{\"colorbar\": {\"outlinewidth\": 0, \"ticks\": \"\"}, \"type\": \"contourcarpet\"}], \"heatmap\": [{\"colorbar\": {\"outlinewidth\": 0, \"ticks\": \"\"}, \"colorscale\": [[0.0, \"#0d0887\"], [0.1111111111111111, \"#46039f\"], [0.2222222222222222, \"#7201a8\"], [0.3333333333333333, \"#9c179e\"], [0.4444444444444444, \"#bd3786\"], [0.5555555555555556, \"#d8576b\"], [0.6666666666666666, \"#ed7953\"], [0.7777777777777778, \"#fb9f3a\"], [0.8888888888888888, \"#fdca26\"], [1.0, \"#f0f921\"]], \"type\": \"heatmap\"}], \"heatmapgl\": [{\"colorbar\": {\"outlinewidth\": 0, \"ticks\": \"\"}, \"colorscale\": [[0.0, \"#0d0887\"], [0.1111111111111111, \"#46039f\"], [0.2222222222222222, \"#7201a8\"], [0.3333333333333333, \"#9c179e\"], [0.4444444444444444, \"#bd3786\"], [0.5555555555555556, \"#d8576b\"], [0.6666666666666666, \"#ed7953\"], [0.7777777777777778, \"#fb9f3a\"], [0.8888888888888888, \"#fdca26\"], [1.0, \"#f0f921\"]], \"type\": \"heatmapgl\"}], \"histogram\": [{\"marker\": {\"colorbar\": {\"outlinewidth\": 0, \"ticks\": \"\"}}, \"type\": \"histogram\"}], \"histogram2d\": [{\"colorbar\": {\"outlinewidth\": 0, \"ticks\": \"\"}, \"colorscale\": [[0.0, \"#0d0887\"], [0.1111111111111111, \"#46039f\"], [0.2222222222222222, \"#7201a8\"], [0.3333333333333333, \"#9c179e\"], [0.4444444444444444, \"#bd3786\"], [0.5555555555555556, \"#d8576b\"], [0.6666666666666666, \"#ed7953\"], [0.7777777777777778, \"#fb9f3a\"], [0.8888888888888888, \"#fdca26\"], [1.0, \"#f0f921\"]], \"type\": \"histogram2d\"}], \"histogram2dcontour\": [{\"colorbar\": {\"outlinewidth\": 0, \"ticks\": \"\"}, \"colorscale\": [[0.0, \"#0d0887\"], [0.1111111111111111, \"#46039f\"], [0.2222222222222222, \"#7201a8\"], [0.3333333333333333, \"#9c179e\"], [0.4444444444444444, \"#bd3786\"], [0.5555555555555556, \"#d8576b\"], [0.6666666666666666, \"#ed7953\"], [0.7777777777777778, \"#fb9f3a\"], [0.8888888888888888, \"#fdca26\"], [1.0, \"#f0f921\"]], \"type\": \"histogram2dcontour\"}], \"mesh3d\": [{\"colorbar\": {\"outlinewidth\": 0, \"ticks\": \"\"}, \"type\": \"mesh3d\"}], \"parcoords\": [{\"line\": {\"colorbar\": {\"outlinewidth\": 0, \"ticks\": \"\"}}, \"type\": \"parcoords\"}], \"pie\": [{\"automargin\": true, \"type\": \"pie\"}], \"scatter\": [{\"marker\": {\"colorbar\": {\"outlinewidth\": 0, \"ticks\": \"\"}}, \"type\": \"scatter\"}], \"scatter3d\": [{\"line\": {\"colorbar\": {\"outlinewidth\": 0, \"ticks\": \"\"}}, \"marker\": {\"colorbar\": {\"outlinewidth\": 0, \"ticks\": \"\"}}, \"type\": \"scatter3d\"}], \"scattercarpet\": [{\"marker\": {\"colorbar\": {\"outlinewidth\": 0, \"ticks\": \"\"}}, \"type\": \"scattercarpet\"}], \"scattergeo\": [{\"marker\": {\"colorbar\": {\"outlinewidth\": 0, \"ticks\": \"\"}}, \"type\": \"scattergeo\"}], \"scattergl\": [{\"marker\": {\"colorbar\": {\"outlinewidth\": 0, \"ticks\": \"\"}}, \"type\": \"scattergl\"}], \"scattermapbox\": [{\"marker\": {\"colorbar\": {\"outlinewidth\": 0, \"ticks\": \"\"}}, \"type\": \"scattermapbox\"}], \"scatterpolar\": [{\"marker\": {\"colorbar\": {\"outlinewidth\": 0, \"ticks\": \"\"}}, \"type\": \"scatterpolar\"}], \"scatterpolargl\": [{\"marker\": {\"colorbar\": {\"outlinewidth\": 0, \"ticks\": \"\"}}, \"type\": \"scatterpolargl\"}], \"scatterternary\": [{\"marker\": {\"colorbar\": {\"outlinewidth\": 0, \"ticks\": \"\"}}, \"type\": \"scatterternary\"}], \"surface\": [{\"colorbar\": {\"outlinewidth\": 0, \"ticks\": \"\"}, \"colorscale\": [[0.0, \"#0d0887\"], [0.1111111111111111, \"#46039f\"], [0.2222222222222222, \"#7201a8\"], [0.3333333333333333, \"#9c179e\"], [0.4444444444444444, \"#bd3786\"], [0.5555555555555556, \"#d8576b\"], [0.6666666666666666, \"#ed7953\"], [0.7777777777777778, \"#fb9f3a\"], [0.8888888888888888, \"#fdca26\"], [1.0, \"#f0f921\"]], \"type\": \"surface\"}], \"table\": [{\"cells\": {\"fill\": {\"color\": \"#EBF0F8\"}, \"line\": {\"color\": \"white\"}}, \"header\": {\"fill\": {\"color\": \"#C8D4E3\"}, \"line\": {\"color\": \"white\"}}, \"type\": \"table\"}]}, \"layout\": {\"annotationdefaults\": {\"arrowcolor\": \"#2a3f5f\", \"arrowhead\": 0, \"arrowwidth\": 1}, \"coloraxis\": {\"colorbar\": {\"outlinewidth\": 0, \"ticks\": \"\"}}, \"colorscale\": {\"diverging\": [[0, \"#8e0152\"], [0.1, \"#c51b7d\"], [0.2, \"#de77ae\"], [0.3, \"#f1b6da\"], [0.4, \"#fde0ef\"], [0.5, \"#f7f7f7\"], [0.6, \"#e6f5d0\"], [0.7, \"#b8e186\"], [0.8, \"#7fbc41\"], [0.9, \"#4d9221\"], [1, \"#276419\"]], \"sequential\": [[0.0, \"#0d0887\"], [0.1111111111111111, \"#46039f\"], [0.2222222222222222, \"#7201a8\"], [0.3333333333333333, \"#9c179e\"], [0.4444444444444444, \"#bd3786\"], [0.5555555555555556, \"#d8576b\"], [0.6666666666666666, \"#ed7953\"], [0.7777777777777778, \"#fb9f3a\"], [0.8888888888888888, \"#fdca26\"], [1.0, \"#f0f921\"]], \"sequentialminus\": [[0.0, \"#0d0887\"], [0.1111111111111111, \"#46039f\"], [0.2222222222222222, \"#7201a8\"], [0.3333333333333333, \"#9c179e\"], [0.4444444444444444, \"#bd3786\"], [0.5555555555555556, \"#d8576b\"], [0.6666666666666666, \"#ed7953\"], [0.7777777777777778, \"#fb9f3a\"], [0.8888888888888888, \"#fdca26\"], [1.0, \"#f0f921\"]]}, \"colorway\": [\"#636efa\", \"#EF553B\", \"#00cc96\", \"#ab63fa\", \"#FFA15A\", \"#19d3f3\", \"#FF6692\", \"#B6E880\", \"#FF97FF\", \"#FECB52\"], \"font\": {\"color\": \"#2a3f5f\"}, \"geo\": {\"bgcolor\": \"white\", \"lakecolor\": \"white\", \"landcolor\": \"#E5ECF6\", \"showlakes\": true, \"showland\": true, \"subunitcolor\": \"white\"}, \"hoverlabel\": {\"align\": \"left\"}, \"hovermode\": \"closest\", \"mapbox\": {\"style\": \"light\"}, \"paper_bgcolor\": \"white\", \"plot_bgcolor\": \"#E5ECF6\", \"polar\": {\"angularaxis\": {\"gridcolor\": \"white\", \"linecolor\": \"white\", \"ticks\": \"\"}, \"bgcolor\": \"#E5ECF6\", \"radialaxis\": {\"gridcolor\": \"white\", \"linecolor\": \"white\", \"ticks\": \"\"}}, \"scene\": {\"xaxis\": {\"backgroundcolor\": \"#E5ECF6\", \"gridcolor\": \"white\", \"gridwidth\": 2, \"linecolor\": \"white\", \"showbackground\": true, \"ticks\": \"\", \"zerolinecolor\": \"white\"}, \"yaxis\": {\"backgroundcolor\": \"#E5ECF6\", \"gridcolor\": \"white\", \"gridwidth\": 2, \"linecolor\": \"white\", \"showbackground\": true, \"ticks\": \"\", \"zerolinecolor\": \"white\"}, \"zaxis\": {\"backgroundcolor\": \"#E5ECF6\", \"gridcolor\": \"white\", \"gridwidth\": 2, \"linecolor\": \"white\", \"showbackground\": true, \"ticks\": \"\", \"zerolinecolor\": \"white\"}}, \"shapedefaults\": {\"line\": {\"color\": \"#2a3f5f\"}}, \"ternary\": {\"aaxis\": {\"gridcolor\": \"white\", \"linecolor\": \"white\", \"ticks\": \"\"}, \"baxis\": {\"gridcolor\": \"white\", \"linecolor\": \"white\", \"ticks\": \"\"}, \"bgcolor\": \"#E5ECF6\", \"caxis\": {\"gridcolor\": \"white\", \"linecolor\": \"white\", \"ticks\": \"\"}}, \"title\": {\"x\": 0.05}, \"xaxis\": {\"automargin\": true, \"gridcolor\": \"white\", \"linecolor\": \"white\", \"ticks\": \"\", \"title\": {\"standoff\": 15}, \"zerolinecolor\": \"white\", \"zerolinewidth\": 2}, \"yaxis\": {\"automargin\": true, \"gridcolor\": \"white\", \"linecolor\": \"white\", \"ticks\": \"\", \"title\": {\"standoff\": 15}, \"zerolinecolor\": \"white\", \"zerolinewidth\": 2}}}},\n",
              "                        {\"responsive\": true}\n",
              "                    ).then(function(){\n",
              "                            \n",
              "var gd = document.getElementById('1a7879db-ba6c-473f-8dfc-7df9e260703e');\n",
              "var x = new MutationObserver(function (mutations, observer) {{\n",
              "        var display = window.getComputedStyle(gd).display;\n",
              "        if (!display || display === 'none') {{\n",
              "            console.log([gd, 'removed!']);\n",
              "            Plotly.purge(gd);\n",
              "            observer.disconnect();\n",
              "        }}\n",
              "}});\n",
              "\n",
              "// Listen for the removal of the full notebook cells\n",
              "var notebookContainer = gd.closest('#notebook-container');\n",
              "if (notebookContainer) {{\n",
              "    x.observe(notebookContainer, {childList: true});\n",
              "}}\n",
              "\n",
              "// Listen for the clearing of the current output cell\n",
              "var outputEl = gd.closest('.output');\n",
              "if (outputEl) {{\n",
              "    x.observe(outputEl, {childList: true});\n",
              "}}\n",
              "\n",
              "                        })\n",
              "                };\n",
              "                \n",
              "            </script>\n",
              "        </div>\n",
              "</body>\n",
              "</html>"
            ]
          },
          "metadata": {
            "tags": []
          }
        }
      ]
    },
    {
      "cell_type": "markdown",
      "metadata": {
        "id": "IdE1FQFq1lDd"
      },
      "source": [
        "##Casos por departamentos"
      ]
    },
    {
      "cell_type": "code",
      "metadata": {
        "id": "dAKthdqU7BV4"
      },
      "source": [
        "#Transformar el objeto 'value_counts' en DataFrame\n",
        "dfDept = dfCol['Departamento']\n",
        "dfDept = dfDept.value_counts()\n",
        "dfDept = dfDept.rename_axis('Departamento')\n",
        "dfDept = dfDept.reset_index(name='Numero')"
      ],
      "execution_count": null,
      "outputs": []
    },
    {
      "cell_type": "code",
      "metadata": {
        "id": "0lx6CCLu5xPC",
        "colab": {
          "base_uri": "https://localhost:8080/",
          "height": 1000
        },
        "outputId": "31a94e1c-3171-4466-8c1b-258b5052f3d9"
      },
      "source": [
        "dfDept['Porcentaje'] = dfDept['Numero'].apply(lambda x: (x/casos)*100)\n",
        "\n",
        "dfDept"
      ],
      "execution_count": null,
      "outputs": [
        {
          "output_type": "execute_result",
          "data": {
            "text/html": [
              "<div>\n",
              "<style scoped>\n",
              "    .dataframe tbody tr th:only-of-type {\n",
              "        vertical-align: middle;\n",
              "    }\n",
              "\n",
              "    .dataframe tbody tr th {\n",
              "        vertical-align: top;\n",
              "    }\n",
              "\n",
              "    .dataframe thead th {\n",
              "        text-align: right;\n",
              "    }\n",
              "</style>\n",
              "<table border=\"1\" class=\"dataframe\">\n",
              "  <thead>\n",
              "    <tr style=\"text-align: right;\">\n",
              "      <th></th>\n",
              "      <th>Departamento</th>\n",
              "      <th>Numero</th>\n",
              "      <th>Porcentaje</th>\n",
              "    </tr>\n",
              "  </thead>\n",
              "  <tbody>\n",
              "    <tr>\n",
              "      <th>0</th>\n",
              "      <td>Bogotá D.C.</td>\n",
              "      <td>2846</td>\n",
              "      <td>39.066575</td>\n",
              "    </tr>\n",
              "    <tr>\n",
              "      <th>1</th>\n",
              "      <td>Valle del cauca</td>\n",
              "      <td>1021</td>\n",
              "      <td>14.015100</td>\n",
              "    </tr>\n",
              "    <tr>\n",
              "      <th>2</th>\n",
              "      <td>Meta</td>\n",
              "      <td>479</td>\n",
              "      <td>6.575154</td>\n",
              "    </tr>\n",
              "    <tr>\n",
              "      <th>3</th>\n",
              "      <td>Antioquia</td>\n",
              "      <td>477</td>\n",
              "      <td>6.547701</td>\n",
              "    </tr>\n",
              "    <tr>\n",
              "      <th>4</th>\n",
              "      <td>Cartagena D.T. y C.</td>\n",
              "      <td>309</td>\n",
              "      <td>4.241592</td>\n",
              "    </tr>\n",
              "    <tr>\n",
              "      <th>5</th>\n",
              "      <td>Cundinamarca</td>\n",
              "      <td>235</td>\n",
              "      <td>3.225806</td>\n",
              "    </tr>\n",
              "    <tr>\n",
              "      <th>6</th>\n",
              "      <td>Atlántico</td>\n",
              "      <td>213</td>\n",
              "      <td>2.923816</td>\n",
              "    </tr>\n",
              "    <tr>\n",
              "      <th>7</th>\n",
              "      <td>Risaralda</td>\n",
              "      <td>208</td>\n",
              "      <td>2.855182</td>\n",
              "    </tr>\n",
              "    <tr>\n",
              "      <th>8</th>\n",
              "      <td>Barranquilla D.E.</td>\n",
              "      <td>201</td>\n",
              "      <td>2.759094</td>\n",
              "    </tr>\n",
              "    <tr>\n",
              "      <th>9</th>\n",
              "      <td>Santa Marta D.T. y C.</td>\n",
              "      <td>176</td>\n",
              "      <td>2.415923</td>\n",
              "    </tr>\n",
              "    <tr>\n",
              "      <th>10</th>\n",
              "      <td>Nariño</td>\n",
              "      <td>157</td>\n",
              "      <td>2.155113</td>\n",
              "    </tr>\n",
              "    <tr>\n",
              "      <th>11</th>\n",
              "      <td>Amazonas</td>\n",
              "      <td>136</td>\n",
              "      <td>1.866850</td>\n",
              "    </tr>\n",
              "    <tr>\n",
              "      <th>12</th>\n",
              "      <td>Huila</td>\n",
              "      <td>133</td>\n",
              "      <td>1.825669</td>\n",
              "    </tr>\n",
              "    <tr>\n",
              "      <th>13</th>\n",
              "      <td>Tolima</td>\n",
              "      <td>88</td>\n",
              "      <td>1.207962</td>\n",
              "    </tr>\n",
              "    <tr>\n",
              "      <th>14</th>\n",
              "      <td>Norte de santander</td>\n",
              "      <td>84</td>\n",
              "      <td>1.153054</td>\n",
              "    </tr>\n",
              "    <tr>\n",
              "      <th>15</th>\n",
              "      <td>Caldas</td>\n",
              "      <td>80</td>\n",
              "      <td>1.098147</td>\n",
              "    </tr>\n",
              "    <tr>\n",
              "      <th>16</th>\n",
              "      <td>Quindio</td>\n",
              "      <td>60</td>\n",
              "      <td>0.823610</td>\n",
              "    </tr>\n",
              "    <tr>\n",
              "      <th>17</th>\n",
              "      <td>Cesar</td>\n",
              "      <td>58</td>\n",
              "      <td>0.796156</td>\n",
              "    </tr>\n",
              "    <tr>\n",
              "      <th>18</th>\n",
              "      <td>Magdalena</td>\n",
              "      <td>54</td>\n",
              "      <td>0.741249</td>\n",
              "    </tr>\n",
              "    <tr>\n",
              "      <th>19</th>\n",
              "      <td>Boyacá</td>\n",
              "      <td>47</td>\n",
              "      <td>0.645161</td>\n",
              "    </tr>\n",
              "    <tr>\n",
              "      <th>20</th>\n",
              "      <td>Santander</td>\n",
              "      <td>40</td>\n",
              "      <td>0.549073</td>\n",
              "    </tr>\n",
              "    <tr>\n",
              "      <th>21</th>\n",
              "      <td>Buenaventura D.E.</td>\n",
              "      <td>36</td>\n",
              "      <td>0.494166</td>\n",
              "    </tr>\n",
              "    <tr>\n",
              "      <th>22</th>\n",
              "      <td>Cauca</td>\n",
              "      <td>35</td>\n",
              "      <td>0.480439</td>\n",
              "    </tr>\n",
              "    <tr>\n",
              "      <th>23</th>\n",
              "      <td>Córdoba</td>\n",
              "      <td>29</td>\n",
              "      <td>0.398078</td>\n",
              "    </tr>\n",
              "    <tr>\n",
              "      <th>24</th>\n",
              "      <td>Bolívar</td>\n",
              "      <td>25</td>\n",
              "      <td>0.343171</td>\n",
              "    </tr>\n",
              "    <tr>\n",
              "      <th>25</th>\n",
              "      <td>Casanare</td>\n",
              "      <td>18</td>\n",
              "      <td>0.247083</td>\n",
              "    </tr>\n",
              "    <tr>\n",
              "      <th>26</th>\n",
              "      <td>Chocó</td>\n",
              "      <td>15</td>\n",
              "      <td>0.205903</td>\n",
              "    </tr>\n",
              "    <tr>\n",
              "      <th>27</th>\n",
              "      <td>Caquetá</td>\n",
              "      <td>9</td>\n",
              "      <td>0.123542</td>\n",
              "    </tr>\n",
              "    <tr>\n",
              "      <th>28</th>\n",
              "      <td>La guajira</td>\n",
              "      <td>9</td>\n",
              "      <td>0.123542</td>\n",
              "    </tr>\n",
              "    <tr>\n",
              "      <th>29</th>\n",
              "      <td>San Andrés, Providencia y Santa Catalina</td>\n",
              "      <td>6</td>\n",
              "      <td>0.082361</td>\n",
              "    </tr>\n",
              "    <tr>\n",
              "      <th>30</th>\n",
              "      <td>Sucre</td>\n",
              "      <td>1</td>\n",
              "      <td>0.013727</td>\n",
              "    </tr>\n",
              "  </tbody>\n",
              "</table>\n",
              "</div>"
            ],
            "text/plain": [
              "                                Departamento  Numero  Porcentaje\n",
              "0                                Bogotá D.C.    2846   39.066575\n",
              "1                            Valle del cauca    1021   14.015100\n",
              "2                                       Meta     479    6.575154\n",
              "3                                  Antioquia     477    6.547701\n",
              "4                        Cartagena D.T. y C.     309    4.241592\n",
              "5                               Cundinamarca     235    3.225806\n",
              "6                                  Atlántico     213    2.923816\n",
              "7                                  Risaralda     208    2.855182\n",
              "8                          Barranquilla D.E.     201    2.759094\n",
              "9                      Santa Marta D.T. y C.     176    2.415923\n",
              "10                                    Nariño     157    2.155113\n",
              "11                                  Amazonas     136    1.866850\n",
              "12                                     Huila     133    1.825669\n",
              "13                                    Tolima      88    1.207962\n",
              "14                        Norte de santander      84    1.153054\n",
              "15                                    Caldas      80    1.098147\n",
              "16                                   Quindio      60    0.823610\n",
              "17                                     Cesar      58    0.796156\n",
              "18                                 Magdalena      54    0.741249\n",
              "19                                    Boyacá      47    0.645161\n",
              "20                                 Santander      40    0.549073\n",
              "21                         Buenaventura D.E.      36    0.494166\n",
              "22                                     Cauca      35    0.480439\n",
              "23                                   Córdoba      29    0.398078\n",
              "24                                   Bolívar      25    0.343171\n",
              "25                                  Casanare      18    0.247083\n",
              "26                                     Chocó      15    0.205903\n",
              "27                                   Caquetá       9    0.123542\n",
              "28                                La guajira       9    0.123542\n",
              "29  San Andrés, Providencia y Santa Catalina       6    0.082361\n",
              "30                                     Sucre       1    0.013727"
            ]
          },
          "metadata": {
            "tags": []
          },
          "execution_count": 86
        }
      ]
    },
    {
      "cell_type": "code",
      "metadata": {
        "id": "AE7j5lBZCGbT",
        "colab": {
          "base_uri": "https://localhost:8080/",
          "height": 542
        },
        "outputId": "4b7937b6-dcc5-411b-a6d0-1a41b4eb6cf9"
      },
      "source": [
        "fig = px.scatter(x=dfDept['Departamento'], y=dfDept['Numero'],\n",
        "                 size=dfDept['Porcentaje'], #color=dfDept['Departamento'],\n",
        "                 hover_name=dfDept['Departamento'], size_max=50,\n",
        "                 title='Número de casos por departamento o distrito especial', \n",
        "                 labels=list(dfDept['Departamento']))\n",
        "fig.show()"
      ],
      "execution_count": null,
      "outputs": [
        {
          "output_type": "display_data",
          "data": {
            "text/html": [
              "<html>\n",
              "<head><meta charset=\"utf-8\" /></head>\n",
              "<body>\n",
              "    <div>\n",
              "            <script src=\"https://cdnjs.cloudflare.com/ajax/libs/mathjax/2.7.5/MathJax.js?config=TeX-AMS-MML_SVG\"></script><script type=\"text/javascript\">if (window.MathJax) {MathJax.Hub.Config({SVG: {font: \"STIX-Web\"}});}</script>\n",
              "                <script type=\"text/javascript\">window.PlotlyConfig = {MathJaxConfig: 'local'};</script>\n",
              "        <script src=\"https://cdn.plot.ly/plotly-latest.min.js\"></script>    \n",
              "            <div id=\"37a9900c-2f01-46d4-88f5-68b5e2d9c631\" class=\"plotly-graph-div\" style=\"height:525px; width:100%;\"></div>\n",
              "            <script type=\"text/javascript\">\n",
              "                \n",
              "                    window.PLOTLYENV=window.PLOTLYENV || {};\n",
              "                    \n",
              "                if (document.getElementById(\"37a9900c-2f01-46d4-88f5-68b5e2d9c631\")) {\n",
              "                    Plotly.newPlot(\n",
              "                        '37a9900c-2f01-46d4-88f5-68b5e2d9c631',\n",
              "                        [{\"hoverlabel\": {\"namelength\": 0}, \"hovertemplate\": \"<b>%{hovertext}</b><br><br>x=%{x}<br>y=%{y}<br>size=%{marker.size}\", \"hovertext\": [\"Bogot\\u00e1 D.C.\", \"Valle del cauca\", \"Meta\", \"Antioquia\", \"Cartagena D.T. y C.\", \"Cundinamarca\", \"Atl\\u00e1ntico\", \"Risaralda\", \"Barranquilla D.E.\", \"Santa Marta D.T. y C.\", \"Nari\\u00f1o\", \"Amazonas\", \"Huila\", \"Tolima\", \"Norte de santander\", \"Caldas\", \"Quindio\", \"Cesar\", \"Magdalena\", \"Boyac\\u00e1\", \"Santander\", \"Buenaventura D.E.\", \"Cauca\", \"C\\u00f3rdoba\", \"Bol\\u00edvar\", \"Casanare\", \"Choc\\u00f3\", \"Caquet\\u00e1\", \"La guajira\", \"San Andr\\u00e9s, Providencia y Santa Catalina\", \"Sucre\"], \"legendgroup\": \"\", \"marker\": {\"color\": \"#636efa\", \"size\": [39.0665751544269, 14.015099519560742, 6.575154426904599, 6.5477007549759785, 4.24159231297186, 3.225806451612903, 2.923816060398078, 2.855181880576527, 2.7590940288263557, 2.4159231297185997, 2.1551132463967058, 1.866849691146191, 1.82566918325326, 1.2079615648592998, 1.1530542210020591, 1.0981468771448182, 0.8236101578586137, 0.7961564859299931, 0.7412491420727523, 0.6451612903225806, 0.5490734385724091, 0.49416609471516815, 0.4804392587508579, 0.39807824296499655, 0.34317089910775567, 0.24708304735758407, 0.20590253946465342, 0.12354152367879204, 0.12354152367879204, 0.08236101578586136, 0.013726835964310225], \"sizemode\": \"area\", \"sizeref\": 0.01562663006177076, \"symbol\": \"circle\"}, \"mode\": \"markers\", \"name\": \"\", \"showlegend\": false, \"type\": \"scatter\", \"x\": [\"Bogot\\u00e1 D.C.\", \"Valle del cauca\", \"Meta\", \"Antioquia\", \"Cartagena D.T. y C.\", \"Cundinamarca\", \"Atl\\u00e1ntico\", \"Risaralda\", \"Barranquilla D.E.\", \"Santa Marta D.T. y C.\", \"Nari\\u00f1o\", \"Amazonas\", \"Huila\", \"Tolima\", \"Norte de santander\", \"Caldas\", \"Quindio\", \"Cesar\", \"Magdalena\", \"Boyac\\u00e1\", \"Santander\", \"Buenaventura D.E.\", \"Cauca\", \"C\\u00f3rdoba\", \"Bol\\u00edvar\", \"Casanare\", \"Choc\\u00f3\", \"Caquet\\u00e1\", \"La guajira\", \"San Andr\\u00e9s, Providencia y Santa Catalina\", \"Sucre\"], \"xaxis\": \"x\", \"y\": [2846, 1021, 479, 477, 309, 235, 213, 208, 201, 176, 157, 136, 133, 88, 84, 80, 60, 58, 54, 47, 40, 36, 35, 29, 25, 18, 15, 9, 9, 6, 1], \"yaxis\": \"y\"}],\n",
              "                        {\"legend\": {\"itemsizing\": \"constant\", \"tracegroupgap\": 0}, \"template\": {\"data\": {\"bar\": [{\"error_x\": {\"color\": \"#2a3f5f\"}, \"error_y\": {\"color\": \"#2a3f5f\"}, \"marker\": {\"line\": {\"color\": \"#E5ECF6\", \"width\": 0.5}}, \"type\": \"bar\"}], \"barpolar\": [{\"marker\": {\"line\": {\"color\": \"#E5ECF6\", \"width\": 0.5}}, \"type\": \"barpolar\"}], \"carpet\": [{\"aaxis\": {\"endlinecolor\": \"#2a3f5f\", \"gridcolor\": \"white\", \"linecolor\": \"white\", \"minorgridcolor\": \"white\", \"startlinecolor\": \"#2a3f5f\"}, \"baxis\": {\"endlinecolor\": \"#2a3f5f\", \"gridcolor\": \"white\", \"linecolor\": \"white\", \"minorgridcolor\": \"white\", \"startlinecolor\": \"#2a3f5f\"}, \"type\": \"carpet\"}], \"choropleth\": [{\"colorbar\": {\"outlinewidth\": 0, \"ticks\": \"\"}, \"type\": \"choropleth\"}], \"contour\": [{\"colorbar\": {\"outlinewidth\": 0, \"ticks\": \"\"}, \"colorscale\": [[0.0, \"#0d0887\"], [0.1111111111111111, \"#46039f\"], [0.2222222222222222, \"#7201a8\"], [0.3333333333333333, \"#9c179e\"], [0.4444444444444444, \"#bd3786\"], [0.5555555555555556, \"#d8576b\"], [0.6666666666666666, \"#ed7953\"], [0.7777777777777778, \"#fb9f3a\"], [0.8888888888888888, \"#fdca26\"], [1.0, \"#f0f921\"]], \"type\": \"contour\"}], \"contourcarpet\": [{\"colorbar\": {\"outlinewidth\": 0, \"ticks\": \"\"}, \"type\": \"contourcarpet\"}], \"heatmap\": [{\"colorbar\": {\"outlinewidth\": 0, \"ticks\": \"\"}, \"colorscale\": [[0.0, \"#0d0887\"], [0.1111111111111111, \"#46039f\"], [0.2222222222222222, \"#7201a8\"], [0.3333333333333333, \"#9c179e\"], [0.4444444444444444, \"#bd3786\"], [0.5555555555555556, \"#d8576b\"], [0.6666666666666666, \"#ed7953\"], [0.7777777777777778, \"#fb9f3a\"], [0.8888888888888888, \"#fdca26\"], [1.0, \"#f0f921\"]], \"type\": \"heatmap\"}], \"heatmapgl\": [{\"colorbar\": {\"outlinewidth\": 0, \"ticks\": \"\"}, \"colorscale\": [[0.0, \"#0d0887\"], [0.1111111111111111, \"#46039f\"], [0.2222222222222222, \"#7201a8\"], [0.3333333333333333, \"#9c179e\"], [0.4444444444444444, \"#bd3786\"], [0.5555555555555556, \"#d8576b\"], [0.6666666666666666, \"#ed7953\"], [0.7777777777777778, \"#fb9f3a\"], [0.8888888888888888, \"#fdca26\"], [1.0, \"#f0f921\"]], \"type\": \"heatmapgl\"}], \"histogram\": [{\"marker\": {\"colorbar\": {\"outlinewidth\": 0, \"ticks\": \"\"}}, \"type\": \"histogram\"}], \"histogram2d\": [{\"colorbar\": {\"outlinewidth\": 0, \"ticks\": \"\"}, \"colorscale\": [[0.0, \"#0d0887\"], [0.1111111111111111, \"#46039f\"], [0.2222222222222222, \"#7201a8\"], [0.3333333333333333, \"#9c179e\"], [0.4444444444444444, \"#bd3786\"], [0.5555555555555556, \"#d8576b\"], [0.6666666666666666, \"#ed7953\"], [0.7777777777777778, \"#fb9f3a\"], [0.8888888888888888, \"#fdca26\"], [1.0, \"#f0f921\"]], \"type\": \"histogram2d\"}], \"histogram2dcontour\": [{\"colorbar\": {\"outlinewidth\": 0, \"ticks\": \"\"}, \"colorscale\": [[0.0, \"#0d0887\"], [0.1111111111111111, \"#46039f\"], [0.2222222222222222, \"#7201a8\"], [0.3333333333333333, \"#9c179e\"], [0.4444444444444444, \"#bd3786\"], [0.5555555555555556, \"#d8576b\"], [0.6666666666666666, \"#ed7953\"], [0.7777777777777778, \"#fb9f3a\"], [0.8888888888888888, \"#fdca26\"], [1.0, \"#f0f921\"]], \"type\": \"histogram2dcontour\"}], \"mesh3d\": [{\"colorbar\": {\"outlinewidth\": 0, \"ticks\": \"\"}, \"type\": \"mesh3d\"}], \"parcoords\": [{\"line\": {\"colorbar\": {\"outlinewidth\": 0, \"ticks\": \"\"}}, \"type\": \"parcoords\"}], \"pie\": [{\"automargin\": true, \"type\": \"pie\"}], \"scatter\": [{\"marker\": {\"colorbar\": {\"outlinewidth\": 0, \"ticks\": \"\"}}, \"type\": \"scatter\"}], \"scatter3d\": [{\"line\": {\"colorbar\": {\"outlinewidth\": 0, \"ticks\": \"\"}}, \"marker\": {\"colorbar\": {\"outlinewidth\": 0, \"ticks\": \"\"}}, \"type\": \"scatter3d\"}], \"scattercarpet\": [{\"marker\": {\"colorbar\": {\"outlinewidth\": 0, \"ticks\": \"\"}}, \"type\": \"scattercarpet\"}], \"scattergeo\": [{\"marker\": {\"colorbar\": {\"outlinewidth\": 0, \"ticks\": \"\"}}, \"type\": \"scattergeo\"}], \"scattergl\": [{\"marker\": {\"colorbar\": {\"outlinewidth\": 0, \"ticks\": \"\"}}, \"type\": \"scattergl\"}], \"scattermapbox\": [{\"marker\": {\"colorbar\": {\"outlinewidth\": 0, \"ticks\": \"\"}}, \"type\": \"scattermapbox\"}], \"scatterpolar\": [{\"marker\": {\"colorbar\": {\"outlinewidth\": 0, \"ticks\": \"\"}}, \"type\": \"scatterpolar\"}], \"scatterpolargl\": [{\"marker\": {\"colorbar\": {\"outlinewidth\": 0, \"ticks\": \"\"}}, \"type\": \"scatterpolargl\"}], \"scatterternary\": [{\"marker\": {\"colorbar\": {\"outlinewidth\": 0, \"ticks\": \"\"}}, \"type\": \"scatterternary\"}], \"surface\": [{\"colorbar\": {\"outlinewidth\": 0, \"ticks\": \"\"}, \"colorscale\": [[0.0, \"#0d0887\"], [0.1111111111111111, \"#46039f\"], [0.2222222222222222, \"#7201a8\"], [0.3333333333333333, \"#9c179e\"], [0.4444444444444444, \"#bd3786\"], [0.5555555555555556, \"#d8576b\"], [0.6666666666666666, \"#ed7953\"], [0.7777777777777778, \"#fb9f3a\"], [0.8888888888888888, \"#fdca26\"], [1.0, \"#f0f921\"]], \"type\": \"surface\"}], \"table\": [{\"cells\": {\"fill\": {\"color\": \"#EBF0F8\"}, \"line\": {\"color\": \"white\"}}, \"header\": {\"fill\": {\"color\": \"#C8D4E3\"}, \"line\": {\"color\": \"white\"}}, \"type\": \"table\"}]}, \"layout\": {\"annotationdefaults\": {\"arrowcolor\": \"#2a3f5f\", \"arrowhead\": 0, \"arrowwidth\": 1}, \"coloraxis\": {\"colorbar\": {\"outlinewidth\": 0, \"ticks\": \"\"}}, \"colorscale\": {\"diverging\": [[0, \"#8e0152\"], [0.1, \"#c51b7d\"], [0.2, \"#de77ae\"], [0.3, \"#f1b6da\"], [0.4, \"#fde0ef\"], [0.5, \"#f7f7f7\"], [0.6, \"#e6f5d0\"], [0.7, \"#b8e186\"], [0.8, \"#7fbc41\"], [0.9, \"#4d9221\"], [1, \"#276419\"]], \"sequential\": [[0.0, \"#0d0887\"], [0.1111111111111111, \"#46039f\"], [0.2222222222222222, \"#7201a8\"], [0.3333333333333333, \"#9c179e\"], [0.4444444444444444, \"#bd3786\"], [0.5555555555555556, \"#d8576b\"], [0.6666666666666666, \"#ed7953\"], [0.7777777777777778, \"#fb9f3a\"], [0.8888888888888888, \"#fdca26\"], [1.0, \"#f0f921\"]], \"sequentialminus\": [[0.0, \"#0d0887\"], [0.1111111111111111, \"#46039f\"], [0.2222222222222222, \"#7201a8\"], [0.3333333333333333, \"#9c179e\"], [0.4444444444444444, \"#bd3786\"], [0.5555555555555556, \"#d8576b\"], [0.6666666666666666, \"#ed7953\"], [0.7777777777777778, \"#fb9f3a\"], [0.8888888888888888, \"#fdca26\"], [1.0, \"#f0f921\"]]}, \"colorway\": [\"#636efa\", \"#EF553B\", \"#00cc96\", \"#ab63fa\", \"#FFA15A\", \"#19d3f3\", \"#FF6692\", \"#B6E880\", \"#FF97FF\", \"#FECB52\"], \"font\": {\"color\": \"#2a3f5f\"}, \"geo\": {\"bgcolor\": \"white\", \"lakecolor\": \"white\", \"landcolor\": \"#E5ECF6\", \"showlakes\": true, \"showland\": true, \"subunitcolor\": \"white\"}, \"hoverlabel\": {\"align\": \"left\"}, \"hovermode\": \"closest\", \"mapbox\": {\"style\": \"light\"}, \"paper_bgcolor\": \"white\", \"plot_bgcolor\": \"#E5ECF6\", \"polar\": {\"angularaxis\": {\"gridcolor\": \"white\", \"linecolor\": \"white\", \"ticks\": \"\"}, \"bgcolor\": \"#E5ECF6\", \"radialaxis\": {\"gridcolor\": \"white\", \"linecolor\": \"white\", \"ticks\": \"\"}}, \"scene\": {\"xaxis\": {\"backgroundcolor\": \"#E5ECF6\", \"gridcolor\": \"white\", \"gridwidth\": 2, \"linecolor\": \"white\", \"showbackground\": true, \"ticks\": \"\", \"zerolinecolor\": \"white\"}, \"yaxis\": {\"backgroundcolor\": \"#E5ECF6\", \"gridcolor\": \"white\", \"gridwidth\": 2, \"linecolor\": \"white\", \"showbackground\": true, \"ticks\": \"\", \"zerolinecolor\": \"white\"}, \"zaxis\": {\"backgroundcolor\": \"#E5ECF6\", \"gridcolor\": \"white\", \"gridwidth\": 2, \"linecolor\": \"white\", \"showbackground\": true, \"ticks\": \"\", \"zerolinecolor\": \"white\"}}, \"shapedefaults\": {\"line\": {\"color\": \"#2a3f5f\"}}, \"ternary\": {\"aaxis\": {\"gridcolor\": \"white\", \"linecolor\": \"white\", \"ticks\": \"\"}, \"baxis\": {\"gridcolor\": \"white\", \"linecolor\": \"white\", \"ticks\": \"\"}, \"bgcolor\": \"#E5ECF6\", \"caxis\": {\"gridcolor\": \"white\", \"linecolor\": \"white\", \"ticks\": \"\"}}, \"title\": {\"x\": 0.05}, \"xaxis\": {\"automargin\": true, \"gridcolor\": \"white\", \"linecolor\": \"white\", \"ticks\": \"\", \"title\": {\"standoff\": 15}, \"zerolinecolor\": \"white\", \"zerolinewidth\": 2}, \"yaxis\": {\"automargin\": true, \"gridcolor\": \"white\", \"linecolor\": \"white\", \"ticks\": \"\", \"title\": {\"standoff\": 15}, \"zerolinecolor\": \"white\", \"zerolinewidth\": 2}}}, \"title\": {\"text\": \"N\\u00famero de casos por departamento o distrito especial\"}, \"xaxis\": {\"anchor\": \"y\", \"domain\": [0.0, 1.0], \"title\": {\"text\": \"x\"}}, \"yaxis\": {\"anchor\": \"x\", \"domain\": [0.0, 1.0], \"title\": {\"text\": \"y\"}}},\n",
              "                        {\"responsive\": true}\n",
              "                    ).then(function(){\n",
              "                            \n",
              "var gd = document.getElementById('37a9900c-2f01-46d4-88f5-68b5e2d9c631');\n",
              "var x = new MutationObserver(function (mutations, observer) {{\n",
              "        var display = window.getComputedStyle(gd).display;\n",
              "        if (!display || display === 'none') {{\n",
              "            console.log([gd, 'removed!']);\n",
              "            Plotly.purge(gd);\n",
              "            observer.disconnect();\n",
              "        }}\n",
              "}});\n",
              "\n",
              "// Listen for the removal of the full notebook cells\n",
              "var notebookContainer = gd.closest('#notebook-container');\n",
              "if (notebookContainer) {{\n",
              "    x.observe(notebookContainer, {childList: true});\n",
              "}}\n",
              "\n",
              "// Listen for the clearing of the current output cell\n",
              "var outputEl = gd.closest('.output');\n",
              "if (outputEl) {{\n",
              "    x.observe(outputEl, {childList: true});\n",
              "}}\n",
              "\n",
              "                        })\n",
              "                };\n",
              "                \n",
              "            </script>\n",
              "        </div>\n",
              "</body>\n",
              "</html>"
            ]
          },
          "metadata": {
            "tags": []
          }
        }
      ]
    },
    {
      "cell_type": "code",
      "metadata": {
        "id": "rTMDIcy4E-4C"
      },
      "source": [
        "fig = px.scatter(x=dfCol['Ciudad'], y=dfCol['Casos'],\n",
        "                 size=dfDept['Porcentaje'], color=dfDept['Departamento'],\n",
        "                 hover_name=dfDept['Departamento'], size_max=50,\n",
        "                 title='Número de casos por departamento o distrito especial', \n",
        "                 labels=list(dfDept['Departamento']))\n",
        "fig.show()"
      ],
      "execution_count": null,
      "outputs": []
    },
    {
      "cell_type": "markdown",
      "metadata": {
        "id": "dSOJSLzb7qP4"
      },
      "source": [
        "##Casos por ubicación"
      ]
    },
    {
      "cell_type": "code",
      "metadata": {
        "id": "uU30AzCB7sx4",
        "colab": {
          "base_uri": "https://localhost:8080/",
          "height": 235
        },
        "outputId": "37da4117-cb38-40cf-c061-1ccd0617edd4"
      },
      "source": [
        "#Transformar el objeto 'value_counts' en DataFrame\n",
        "dfUbicacion = dfCol['Ubicacion']\n",
        "dfUbicacion = dfUbicacion.value_counts()\n",
        "dfUbicacion = dfUbicacion.rename_axis('Ubicacion')\n",
        "dfUbicacion = dfUbicacion.reset_index(name='Numero')\n",
        "\n",
        "dfUbicacion"
      ],
      "execution_count": null,
      "outputs": [
        {
          "output_type": "execute_result",
          "data": {
            "text/html": [
              "<div>\n",
              "<style scoped>\n",
              "    .dataframe tbody tr th:only-of-type {\n",
              "        vertical-align: middle;\n",
              "    }\n",
              "\n",
              "    .dataframe tbody tr th {\n",
              "        vertical-align: top;\n",
              "    }\n",
              "\n",
              "    .dataframe thead th {\n",
              "        text-align: right;\n",
              "    }\n",
              "</style>\n",
              "<table border=\"1\" class=\"dataframe\">\n",
              "  <thead>\n",
              "    <tr style=\"text-align: right;\">\n",
              "      <th></th>\n",
              "      <th>Ubicacion</th>\n",
              "      <th>Numero</th>\n",
              "    </tr>\n",
              "  </thead>\n",
              "  <tbody>\n",
              "    <tr>\n",
              "      <th>0</th>\n",
              "      <td>Casa</td>\n",
              "      <td>4749</td>\n",
              "    </tr>\n",
              "    <tr>\n",
              "      <th>1</th>\n",
              "      <td>Recuperado</td>\n",
              "      <td>1666</td>\n",
              "    </tr>\n",
              "    <tr>\n",
              "      <th>2</th>\n",
              "      <td>Hospital</td>\n",
              "      <td>420</td>\n",
              "    </tr>\n",
              "    <tr>\n",
              "      <th>3</th>\n",
              "      <td>Fallecido</td>\n",
              "      <td>324</td>\n",
              "    </tr>\n",
              "    <tr>\n",
              "      <th>4</th>\n",
              "      <td>Hospital UCI</td>\n",
              "      <td>122</td>\n",
              "    </tr>\n",
              "    <tr>\n",
              "      <th>5</th>\n",
              "      <td>Nan</td>\n",
              "      <td>4</td>\n",
              "    </tr>\n",
              "  </tbody>\n",
              "</table>\n",
              "</div>"
            ],
            "text/plain": [
              "      Ubicacion  Numero\n",
              "0          Casa    4749\n",
              "1    Recuperado    1666\n",
              "2      Hospital     420\n",
              "3     Fallecido     324\n",
              "4  Hospital UCI     122\n",
              "5           Nan       4"
            ]
          },
          "metadata": {
            "tags": []
          },
          "execution_count": 88
        }
      ]
    },
    {
      "cell_type": "markdown",
      "metadata": {
        "id": "1NX1c6nnVHN6"
      },
      "source": [
        "#Gráficas"
      ]
    },
    {
      "cell_type": "markdown",
      "metadata": {
        "id": "OaS4fqg0x8o_"
      },
      "source": [
        "#Miscelanea"
      ]
    },
    {
      "cell_type": "markdown",
      "metadata": {
        "id": "aH3wfugOA86-"
      },
      "source": [
        "##Pandas\n",
        "[Top de funciones para aprendices](https://towardsdatascience.com/top-3-pandas-functions-for-beginners-36373ee47075)\n",
        "\n",
        "[Funciones para usar más seguido](https://towardsdatascience.com/3-pandas-functions-you-should-be-using-more-often-696b41e8d7ca)\n",
        "\n",
        "[Funciones tal vez desconocidas](https://towardsdatascience.com/top-3-pandas-functions-you-dont-know-about-probably-5ae9e1c964c8)"
      ]
    }
  ]
}